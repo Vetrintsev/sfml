{
 "cells": [
  {
   "cell_type": "markdown",
   "metadata": {},
   "source": [
    "# SkillFactory\n",
    "## Введение в ML, введение в sklearn"
   ]
  },
  {
   "cell_type": "markdown",
   "metadata": {},
   "source": [
    "В этом задании мы с вами рассмотрим данные с конкурса [Задача предсказания отклика клиентов ОТП Банка](http://www.machinelearning.ru/wiki/index.php?title=%D0%97%D0%B0%D0%B4%D0%B0%D1%87%D0%B0_%D0%BF%D1%80%D0%B5%D0%B4%D1%81%D0%BA%D0%B0%D0%B7%D0%B0%D0%BD%D0%B8%D1%8F_%D0%BE%D1%82%D0%BA%D0%BB%D0%B8%D0%BA%D0%B0_%D0%BA%D0%BB%D0%B8%D0%B5%D0%BD%D1%82%D0%BE%D0%B2_%D0%9E%D0%A2%D0%9F_%D0%91%D0%B0%D0%BD%D0%BA%D0%B0_%28%D0%BA%D0%BE%D0%BD%D0%BA%D1%83%D1%80%D1%81%29)"
   ]
  },
  {
   "cell_type": "code",
   "execution_count": 132,
   "metadata": {
    "collapsed": true
   },
   "outputs": [],
   "source": [
    "import pandas as pd\n",
    "import numpy as np\n",
    "import matplotlib.pyplot as plt\n",
    "\n",
    "%matplotlib inline\n",
    "\n",
    "plt.style.use('ggplot')\n",
    "plt.rcParams['figure.figsize'] = (12,5)"
   ]
  },
  {
   "cell_type": "markdown",
   "metadata": {},
   "source": [
    "### Грузим данные"
   ]
  },
  {
   "cell_type": "markdown",
   "metadata": {},
   "source": [
    "Считаем описание данных"
   ]
  },
  {
   "cell_type": "code",
   "execution_count": 133,
   "metadata": {
    "collapsed": true
   },
   "outputs": [],
   "source": [
    "\n",
    "df_descr = pd.read_csv('data/otp_description.csv', sep='\\t', encoding='utf8')"
   ]
  },
  {
   "cell_type": "code",
   "execution_count": 134,
   "metadata": {
    "collapsed": true
   },
   "outputs": [
    {
     "data": {
      "text/html": [
       "<div>\n",
       "<style scoped>\n",
       "    .dataframe tbody tr th:only-of-type {\n",
       "        vertical-align: middle;\n",
       "    }\n",
       "\n",
       "    .dataframe tbody tr th {\n",
       "        vertical-align: top;\n",
       "    }\n",
       "\n",
       "    .dataframe thead th {\n",
       "        text-align: right;\n",
       "    }\n",
       "</style>\n",
       "<table border=\"1\" class=\"dataframe\">\n",
       "  <thead>\n",
       "    <tr style=\"text-align: right;\">\n",
       "      <th></th>\n",
       "      <th>ПОЛЕ</th>\n",
       "      <th>ОПИСАНИЕ</th>\n",
       "    </tr>\n",
       "  </thead>\n",
       "  <tbody>\n",
       "    <tr>\n",
       "      <th>0</th>\n",
       "      <td>AGREEMENT_RK</td>\n",
       "      <td>уникальный идентификатор объекта в выборке</td>\n",
       "    </tr>\n",
       "    <tr>\n",
       "      <th>1</th>\n",
       "      <td>AGE</td>\n",
       "      <td>возраст клиента</td>\n",
       "    </tr>\n",
       "    <tr>\n",
       "      <th>2</th>\n",
       "      <td>SOCSTATUS_WORK_FL</td>\n",
       "      <td>социальный статус клиента относительно работы ...</td>\n",
       "    </tr>\n",
       "    <tr>\n",
       "      <th>3</th>\n",
       "      <td>SOCSTATUS_PENS_FL</td>\n",
       "      <td>социальный статус клиента относительно пенсии ...</td>\n",
       "    </tr>\n",
       "    <tr>\n",
       "      <th>4</th>\n",
       "      <td>GENDER</td>\n",
       "      <td>пол клиента (1- женщины, 0-мужчины)</td>\n",
       "    </tr>\n",
       "    <tr>\n",
       "      <th>5</th>\n",
       "      <td>CHILD_TOTAL</td>\n",
       "      <td>количество детей клиента</td>\n",
       "    </tr>\n",
       "    <tr>\n",
       "      <th>6</th>\n",
       "      <td>DEPENDANTS</td>\n",
       "      <td>количество иждивенцев клиента</td>\n",
       "    </tr>\n",
       "    <tr>\n",
       "      <th>7</th>\n",
       "      <td>EDUCATION</td>\n",
       "      <td>образование</td>\n",
       "    </tr>\n",
       "    <tr>\n",
       "      <th>8</th>\n",
       "      <td>MARITAL_STATUS</td>\n",
       "      <td>семейное положение</td>\n",
       "    </tr>\n",
       "    <tr>\n",
       "      <th>9</th>\n",
       "      <td>GEN_INDUSTRY</td>\n",
       "      <td>отрасль работы клиента</td>\n",
       "    </tr>\n",
       "    <tr>\n",
       "      <th>10</th>\n",
       "      <td>GEN_TITLE</td>\n",
       "      <td>должность</td>\n",
       "    </tr>\n",
       "    <tr>\n",
       "      <th>11</th>\n",
       "      <td>ORG_TP_STATE</td>\n",
       "      <td>форма собственности компании</td>\n",
       "    </tr>\n",
       "    <tr>\n",
       "      <th>12</th>\n",
       "      <td>ORG_TP_FCAPITAL</td>\n",
       "      <td>отношение к иностранному капиталу</td>\n",
       "    </tr>\n",
       "    <tr>\n",
       "      <th>13</th>\n",
       "      <td>JOB_DIR</td>\n",
       "      <td>направление деятельности в нутри компании</td>\n",
       "    </tr>\n",
       "    <tr>\n",
       "      <th>14</th>\n",
       "      <td>FAMILY_INCOME</td>\n",
       "      <td>семейный доход (несколько категорий)</td>\n",
       "    </tr>\n",
       "    <tr>\n",
       "      <th>15</th>\n",
       "      <td>PERSONAL_INCOME</td>\n",
       "      <td>личный доход клиента (в рублях)</td>\n",
       "    </tr>\n",
       "    <tr>\n",
       "      <th>16</th>\n",
       "      <td>REG_ADDRESS_PROVINCE</td>\n",
       "      <td>область регистрации клиента</td>\n",
       "    </tr>\n",
       "    <tr>\n",
       "      <th>17</th>\n",
       "      <td>FACT_ADDRESS_PROVINCE</td>\n",
       "      <td>область фактического пребывания клиента</td>\n",
       "    </tr>\n",
       "    <tr>\n",
       "      <th>18</th>\n",
       "      <td>POSTAL_ADDRESS_PROVINCE</td>\n",
       "      <td>почтовый адрес область</td>\n",
       "    </tr>\n",
       "    <tr>\n",
       "      <th>19</th>\n",
       "      <td>TP_PROVINCE</td>\n",
       "      <td>область торговой точки, где клиент брал послед...</td>\n",
       "    </tr>\n",
       "    <tr>\n",
       "      <th>20</th>\n",
       "      <td>REGION_NM</td>\n",
       "      <td>регион РФ</td>\n",
       "    </tr>\n",
       "    <tr>\n",
       "      <th>21</th>\n",
       "      <td>REG_FACT_FL</td>\n",
       "      <td>адрес регистрации и адрес фактического пребыва...</td>\n",
       "    </tr>\n",
       "    <tr>\n",
       "      <th>22</th>\n",
       "      <td>FACT_POST_FL</td>\n",
       "      <td>адрес фактического пребывания клиента и его по...</td>\n",
       "    </tr>\n",
       "    <tr>\n",
       "      <th>23</th>\n",
       "      <td>REG_POST_FL</td>\n",
       "      <td>адрес регистрации клиента и его почтовый адрес...</td>\n",
       "    </tr>\n",
       "    <tr>\n",
       "      <th>24</th>\n",
       "      <td>REG_FACT_POST_FL</td>\n",
       "      <td>почтовый, фактический и адрес регистрации совп...</td>\n",
       "    </tr>\n",
       "    <tr>\n",
       "      <th>25</th>\n",
       "      <td>REG_FACT_POST_TP_FL</td>\n",
       "      <td>область регистрации, фактического пребывания, ...</td>\n",
       "    </tr>\n",
       "    <tr>\n",
       "      <th>26</th>\n",
       "      <td>FL_PRESENCE_FL</td>\n",
       "      <td>наличие в собственности квартиры (1 - есть, 0 ...</td>\n",
       "    </tr>\n",
       "    <tr>\n",
       "      <th>27</th>\n",
       "      <td>OWN_AUTO</td>\n",
       "      <td>кол-во автомобилей в собственности</td>\n",
       "    </tr>\n",
       "    <tr>\n",
       "      <th>28</th>\n",
       "      <td>AUTO_RUS_FL</td>\n",
       "      <td>наличие в собственности автомобиля российского...</td>\n",
       "    </tr>\n",
       "    <tr>\n",
       "      <th>29</th>\n",
       "      <td>HS_PRESENCE_FL</td>\n",
       "      <td>наличие в собственности загородного дома (1 - ...</td>\n",
       "    </tr>\n",
       "    <tr>\n",
       "      <th>30</th>\n",
       "      <td>COT_PRESENCE_FL</td>\n",
       "      <td>наличие в собственности котеджа (1 - есть, 0 -...</td>\n",
       "    </tr>\n",
       "    <tr>\n",
       "      <th>31</th>\n",
       "      <td>GAR_PRESENCE_FL</td>\n",
       "      <td>наличие в собственности гаража (1 - есть, 0 - ...</td>\n",
       "    </tr>\n",
       "    <tr>\n",
       "      <th>32</th>\n",
       "      <td>LAND_PRESENCE_FL</td>\n",
       "      <td>наличие в собственности земельного участка (1 ...</td>\n",
       "    </tr>\n",
       "    <tr>\n",
       "      <th>33</th>\n",
       "      <td>CREDIT</td>\n",
       "      <td>сумма последнего кредита клиента (в рублях)</td>\n",
       "    </tr>\n",
       "    <tr>\n",
       "      <th>34</th>\n",
       "      <td>TERM</td>\n",
       "      <td>срок кредита</td>\n",
       "    </tr>\n",
       "    <tr>\n",
       "      <th>35</th>\n",
       "      <td>FST_PAYMENT</td>\n",
       "      <td>первоначальный взнос (в рублях)</td>\n",
       "    </tr>\n",
       "    <tr>\n",
       "      <th>36</th>\n",
       "      <td>DL_DOCUMENT_FL</td>\n",
       "      <td>в анкете клиент указал водительское удостовере...</td>\n",
       "    </tr>\n",
       "    <tr>\n",
       "      <th>37</th>\n",
       "      <td>GPF_DOCUMENT_FL</td>\n",
       "      <td>в анкете клиен указал ГПФ (1 - указал, 0 - не ...</td>\n",
       "    </tr>\n",
       "    <tr>\n",
       "      <th>38</th>\n",
       "      <td>FACT_LIVING_TERM</td>\n",
       "      <td>количество месяцев проживания по месту фактиче...</td>\n",
       "    </tr>\n",
       "    <tr>\n",
       "      <th>39</th>\n",
       "      <td>WORK_TIME</td>\n",
       "      <td>время работы на текущем месте (в месяцах)</td>\n",
       "    </tr>\n",
       "    <tr>\n",
       "      <th>40</th>\n",
       "      <td>FACT_PHONE_FL</td>\n",
       "      <td>наличие в заявке телефона по фактическому мест...</td>\n",
       "    </tr>\n",
       "    <tr>\n",
       "      <th>41</th>\n",
       "      <td>REG_PHONE_FL</td>\n",
       "      <td>наличие в заявке телефона по месту регистрации</td>\n",
       "    </tr>\n",
       "    <tr>\n",
       "      <th>42</th>\n",
       "      <td>GEN_PHONE_FL</td>\n",
       "      <td>наличие в заявке рабочего телефона</td>\n",
       "    </tr>\n",
       "    <tr>\n",
       "      <th>43</th>\n",
       "      <td>LOAN_NUM_TOTAL</td>\n",
       "      <td>количество ссуд клиента</td>\n",
       "    </tr>\n",
       "    <tr>\n",
       "      <th>44</th>\n",
       "      <td>LOAN_NUM_CLOSED</td>\n",
       "      <td>количество погашенных ссуд клиента</td>\n",
       "    </tr>\n",
       "    <tr>\n",
       "      <th>45</th>\n",
       "      <td>LOAN_NUM_PAYM</td>\n",
       "      <td>количество платежей, которые сделал клиент</td>\n",
       "    </tr>\n",
       "    <tr>\n",
       "      <th>46</th>\n",
       "      <td>LOAN_DLQ_NUM</td>\n",
       "      <td>количество просрочек, допущенных клиентом</td>\n",
       "    </tr>\n",
       "    <tr>\n",
       "      <th>47</th>\n",
       "      <td>LOAN_MAX_DLQ</td>\n",
       "      <td>номер максимальной просрочки, допущенной клиентом</td>\n",
       "    </tr>\n",
       "    <tr>\n",
       "      <th>48</th>\n",
       "      <td>LOAN_AVG_DLQ_AMT</td>\n",
       "      <td>средняя сумма просрочки (в рублях)</td>\n",
       "    </tr>\n",
       "    <tr>\n",
       "      <th>49</th>\n",
       "      <td>LOAN_MAX_DLQ_AMT</td>\n",
       "      <td>максимальная сумма просрочки (в рублях)</td>\n",
       "    </tr>\n",
       "    <tr>\n",
       "      <th>50</th>\n",
       "      <td>PREVIOUS_CARD_NUM_UTILIZED</td>\n",
       "      <td>количество уже утилизированных карт ( если пус...</td>\n",
       "    </tr>\n",
       "  </tbody>\n",
       "</table>\n",
       "</div>"
      ],
      "text/plain": [
       "                          ПОЛЕ  \\\n",
       "0                 AGREEMENT_RK   \n",
       "1                          AGE   \n",
       "2            SOCSTATUS_WORK_FL   \n",
       "3            SOCSTATUS_PENS_FL   \n",
       "4                       GENDER   \n",
       "5                  CHILD_TOTAL   \n",
       "6                   DEPENDANTS   \n",
       "7                    EDUCATION   \n",
       "8               MARITAL_STATUS   \n",
       "9                 GEN_INDUSTRY   \n",
       "10                   GEN_TITLE   \n",
       "11                ORG_TP_STATE   \n",
       "12             ORG_TP_FCAPITAL   \n",
       "13                     JOB_DIR   \n",
       "14               FAMILY_INCOME   \n",
       "15             PERSONAL_INCOME   \n",
       "16        REG_ADDRESS_PROVINCE   \n",
       "17       FACT_ADDRESS_PROVINCE   \n",
       "18     POSTAL_ADDRESS_PROVINCE   \n",
       "19                 TP_PROVINCE   \n",
       "20                   REGION_NM   \n",
       "21                 REG_FACT_FL   \n",
       "22                FACT_POST_FL   \n",
       "23                 REG_POST_FL   \n",
       "24            REG_FACT_POST_FL   \n",
       "25         REG_FACT_POST_TP_FL   \n",
       "26              FL_PRESENCE_FL   \n",
       "27                    OWN_AUTO   \n",
       "28                 AUTO_RUS_FL   \n",
       "29              HS_PRESENCE_FL   \n",
       "30             COT_PRESENCE_FL   \n",
       "31             GAR_PRESENCE_FL   \n",
       "32            LAND_PRESENCE_FL   \n",
       "33                      CREDIT   \n",
       "34                        TERM   \n",
       "35                 FST_PAYMENT   \n",
       "36              DL_DOCUMENT_FL   \n",
       "37             GPF_DOCUMENT_FL   \n",
       "38            FACT_LIVING_TERM   \n",
       "39                   WORK_TIME   \n",
       "40               FACT_PHONE_FL   \n",
       "41                REG_PHONE_FL   \n",
       "42                GEN_PHONE_FL   \n",
       "43              LOAN_NUM_TOTAL   \n",
       "44             LOAN_NUM_CLOSED   \n",
       "45               LOAN_NUM_PAYM   \n",
       "46                LOAN_DLQ_NUM   \n",
       "47                LOAN_MAX_DLQ   \n",
       "48            LOAN_AVG_DLQ_AMT   \n",
       "49            LOAN_MAX_DLQ_AMT   \n",
       "50  PREVIOUS_CARD_NUM_UTILIZED   \n",
       "\n",
       "                                             ОПИСАНИЕ  \n",
       "0          уникальный идентификатор объекта в выборке  \n",
       "1                                     возраст клиента  \n",
       "2   социальный статус клиента относительно работы ...  \n",
       "3   социальный статус клиента относительно пенсии ...  \n",
       "4                 пол клиента (1- женщины, 0-мужчины)  \n",
       "5                            количество детей клиента  \n",
       "6                       количество иждивенцев клиента  \n",
       "7                                         образование  \n",
       "8                                  семейное положение  \n",
       "9                              отрасль работы клиента  \n",
       "10                                          должность  \n",
       "11                       форма собственности компании  \n",
       "12                  отношение к иностранному капиталу  \n",
       "13          направление деятельности в нутри компании  \n",
       "14               семейный доход (несколько категорий)  \n",
       "15                    личный доход клиента (в рублях)  \n",
       "16                        область регистрации клиента  \n",
       "17            область фактического пребывания клиента  \n",
       "18                             почтовый адрес область  \n",
       "19  область торговой точки, где клиент брал послед...  \n",
       "20                                          регион РФ  \n",
       "21  адрес регистрации и адрес фактического пребыва...  \n",
       "22  адрес фактического пребывания клиента и его по...  \n",
       "23  адрес регистрации клиента и его почтовый адрес...  \n",
       "24  почтовый, фактический и адрес регистрации совп...  \n",
       "25  область регистрации, фактического пребывания, ...  \n",
       "26  наличие в собственности квартиры (1 - есть, 0 ...  \n",
       "27                кол-во автомобилей в собственности   \n",
       "28  наличие в собственности автомобиля российского...  \n",
       "29  наличие в собственности загородного дома (1 - ...  \n",
       "30  наличие в собственности котеджа (1 - есть, 0 -...  \n",
       "31  наличие в собственности гаража (1 - есть, 0 - ...  \n",
       "32  наличие в собственности земельного участка (1 ...  \n",
       "33        сумма последнего кредита клиента (в рублях)  \n",
       "34                                       срок кредита  \n",
       "35                    первоначальный взнос (в рублях)  \n",
       "36  в анкете клиент указал водительское удостовере...  \n",
       "37  в анкете клиен указал ГПФ (1 - указал, 0 - не ...  \n",
       "38  количество месяцев проживания по месту фактиче...  \n",
       "39          время работы на текущем месте (в месяцах)  \n",
       "40  наличие в заявке телефона по фактическому мест...  \n",
       "41     наличие в заявке телефона по месту регистрации  \n",
       "42                 наличие в заявке рабочего телефона  \n",
       "43                            количество ссуд клиента  \n",
       "44                 количество погашенных ссуд клиента  \n",
       "45         количество платежей, которые сделал клиент  \n",
       "46          количество просрочек, допущенных клиентом  \n",
       "47  номер максимальной просрочки, допущенной клиентом  \n",
       "48                 средняя сумма просрочки (в рублях)  \n",
       "49            максимальная сумма просрочки (в рублях)  \n",
       "50  количество уже утилизированных карт ( если пус...  "
      ]
     },
     "execution_count": 134,
     "metadata": {},
     "output_type": "execute_result"
    }
   ],
   "source": [
    "df_descr"
   ]
  },
  {
   "cell_type": "markdown",
   "metadata": {},
   "source": [
    "Считаем обучающую выборки и тестовую (которую мы как бы не видим)"
   ]
  },
  {
   "cell_type": "code",
   "execution_count": 135,
   "metadata": {
    "collapsed": true
   },
   "outputs": [],
   "source": [
    "df_train = pd.read_csv('data/otp_train.csv', sep='\\t', encoding='utf8')"
   ]
  },
  {
   "cell_type": "code",
   "execution_count": 136,
   "metadata": {
    "collapsed": true
   },
   "outputs": [
    {
     "data": {
      "text/plain": [
       "(15223, 52)"
      ]
     },
     "execution_count": 136,
     "metadata": {},
     "output_type": "execute_result"
    }
   ],
   "source": [
    "df_train.shape"
   ]
  },
  {
   "cell_type": "code",
   "execution_count": 137,
   "metadata": {
    "collapsed": true
   },
   "outputs": [],
   "source": [
    "df_test = pd.read_csv('data/otp_test.csv', sep='\\t', encoding='utf8')"
   ]
  },
  {
   "cell_type": "code",
   "execution_count": 138,
   "metadata": {
    "collapsed": true
   },
   "outputs": [
    {
     "data": {
      "text/plain": [
       "(14910, 52)"
      ]
     },
     "execution_count": 138,
     "metadata": {},
     "output_type": "execute_result"
    }
   ],
   "source": [
    "df_test.shape"
   ]
  },
  {
   "cell_type": "code",
   "execution_count": 139,
   "metadata": {
    "collapsed": true
   },
   "outputs": [
    {
     "data": {
      "text/html": [
       "<div>\n",
       "<style scoped>\n",
       "    .dataframe tbody tr th:only-of-type {\n",
       "        vertical-align: middle;\n",
       "    }\n",
       "\n",
       "    .dataframe tbody tr th {\n",
       "        vertical-align: top;\n",
       "    }\n",
       "\n",
       "    .dataframe thead th {\n",
       "        text-align: right;\n",
       "    }\n",
       "</style>\n",
       "<table border=\"1\" class=\"dataframe\">\n",
       "  <thead>\n",
       "    <tr style=\"text-align: right;\">\n",
       "      <th></th>\n",
       "      <th>AGREEMENT_RK</th>\n",
       "      <th>TARGET</th>\n",
       "      <th>AGE</th>\n",
       "      <th>SOCSTATUS_WORK_FL</th>\n",
       "      <th>SOCSTATUS_PENS_FL</th>\n",
       "      <th>GENDER</th>\n",
       "      <th>CHILD_TOTAL</th>\n",
       "      <th>DEPENDANTS</th>\n",
       "      <th>EDUCATION</th>\n",
       "      <th>MARITAL_STATUS</th>\n",
       "      <th>...</th>\n",
       "      <th>REG_PHONE_FL</th>\n",
       "      <th>GEN_PHONE_FL</th>\n",
       "      <th>LOAN_NUM_TOTAL</th>\n",
       "      <th>LOAN_NUM_CLOSED</th>\n",
       "      <th>LOAN_NUM_PAYM</th>\n",
       "      <th>LOAN_DLQ_NUM</th>\n",
       "      <th>LOAN_MAX_DLQ</th>\n",
       "      <th>LOAN_AVG_DLQ_AMT</th>\n",
       "      <th>LOAN_MAX_DLQ_AMT</th>\n",
       "      <th>PREVIOUS_CARD_NUM_UTILIZED</th>\n",
       "    </tr>\n",
       "  </thead>\n",
       "  <tbody>\n",
       "    <tr>\n",
       "      <th>0</th>\n",
       "      <td>59910150</td>\n",
       "      <td>0</td>\n",
       "      <td>49</td>\n",
       "      <td>1</td>\n",
       "      <td>0</td>\n",
       "      <td>1</td>\n",
       "      <td>2</td>\n",
       "      <td>1</td>\n",
       "      <td>Среднее специальное</td>\n",
       "      <td>Состою в браке</td>\n",
       "      <td>...</td>\n",
       "      <td>0</td>\n",
       "      <td>1</td>\n",
       "      <td>1</td>\n",
       "      <td>1</td>\n",
       "      <td>6</td>\n",
       "      <td>2</td>\n",
       "      <td>1</td>\n",
       "      <td>1580</td>\n",
       "      <td>1580</td>\n",
       "      <td>NaN</td>\n",
       "    </tr>\n",
       "    <tr>\n",
       "      <th>1</th>\n",
       "      <td>59910230</td>\n",
       "      <td>0</td>\n",
       "      <td>32</td>\n",
       "      <td>1</td>\n",
       "      <td>0</td>\n",
       "      <td>1</td>\n",
       "      <td>3</td>\n",
       "      <td>3</td>\n",
       "      <td>Среднее</td>\n",
       "      <td>Состою в браке</td>\n",
       "      <td>...</td>\n",
       "      <td>0</td>\n",
       "      <td>1</td>\n",
       "      <td>1</td>\n",
       "      <td>1</td>\n",
       "      <td>6</td>\n",
       "      <td>1</td>\n",
       "      <td>1</td>\n",
       "      <td>4020</td>\n",
       "      <td>4020</td>\n",
       "      <td>NaN</td>\n",
       "    </tr>\n",
       "    <tr>\n",
       "      <th>2</th>\n",
       "      <td>59910525</td>\n",
       "      <td>0</td>\n",
       "      <td>52</td>\n",
       "      <td>1</td>\n",
       "      <td>0</td>\n",
       "      <td>1</td>\n",
       "      <td>4</td>\n",
       "      <td>0</td>\n",
       "      <td>Неполное среднее</td>\n",
       "      <td>Состою в браке</td>\n",
       "      <td>...</td>\n",
       "      <td>0</td>\n",
       "      <td>1</td>\n",
       "      <td>2</td>\n",
       "      <td>1</td>\n",
       "      <td>11</td>\n",
       "      <td>0</td>\n",
       "      <td>0</td>\n",
       "      <td>0</td>\n",
       "      <td>0</td>\n",
       "      <td>NaN</td>\n",
       "    </tr>\n",
       "    <tr>\n",
       "      <th>3</th>\n",
       "      <td>59910803</td>\n",
       "      <td>0</td>\n",
       "      <td>39</td>\n",
       "      <td>1</td>\n",
       "      <td>0</td>\n",
       "      <td>1</td>\n",
       "      <td>1</td>\n",
       "      <td>1</td>\n",
       "      <td>Высшее</td>\n",
       "      <td>Состою в браке</td>\n",
       "      <td>...</td>\n",
       "      <td>1</td>\n",
       "      <td>1</td>\n",
       "      <td>1</td>\n",
       "      <td>1</td>\n",
       "      <td>6</td>\n",
       "      <td>3</td>\n",
       "      <td>1</td>\n",
       "      <td>1589,92333333333</td>\n",
       "      <td>1590</td>\n",
       "      <td>NaN</td>\n",
       "    </tr>\n",
       "    <tr>\n",
       "      <th>4</th>\n",
       "      <td>59911781</td>\n",
       "      <td>0</td>\n",
       "      <td>30</td>\n",
       "      <td>1</td>\n",
       "      <td>0</td>\n",
       "      <td>0</td>\n",
       "      <td>0</td>\n",
       "      <td>0</td>\n",
       "      <td>Среднее</td>\n",
       "      <td>Состою в браке</td>\n",
       "      <td>...</td>\n",
       "      <td>0</td>\n",
       "      <td>1</td>\n",
       "      <td>2</td>\n",
       "      <td>1</td>\n",
       "      <td>16</td>\n",
       "      <td>2</td>\n",
       "      <td>1</td>\n",
       "      <td>1152,15</td>\n",
       "      <td>2230</td>\n",
       "      <td>NaN</td>\n",
       "    </tr>\n",
       "  </tbody>\n",
       "</table>\n",
       "<p>5 rows × 52 columns</p>\n",
       "</div>"
      ],
      "text/plain": [
       "   AGREEMENT_RK  TARGET  AGE  SOCSTATUS_WORK_FL  SOCSTATUS_PENS_FL  GENDER  \\\n",
       "0      59910150       0   49                  1                  0       1   \n",
       "1      59910230       0   32                  1                  0       1   \n",
       "2      59910525       0   52                  1                  0       1   \n",
       "3      59910803       0   39                  1                  0       1   \n",
       "4      59911781       0   30                  1                  0       0   \n",
       "\n",
       "   CHILD_TOTAL  DEPENDANTS            EDUCATION  MARITAL_STATUS  \\\n",
       "0            2           1  Среднее специальное  Состою в браке   \n",
       "1            3           3              Среднее  Состою в браке   \n",
       "2            4           0     Неполное среднее  Состою в браке   \n",
       "3            1           1               Высшее  Состою в браке   \n",
       "4            0           0              Среднее  Состою в браке   \n",
       "\n",
       "             ...             REG_PHONE_FL GEN_PHONE_FL LOAN_NUM_TOTAL  \\\n",
       "0            ...                        0            1              1   \n",
       "1            ...                        0            1              1   \n",
       "2            ...                        0            1              2   \n",
       "3            ...                        1            1              1   \n",
       "4            ...                        0            1              2   \n",
       "\n",
       "  LOAN_NUM_CLOSED LOAN_NUM_PAYM LOAN_DLQ_NUM LOAN_MAX_DLQ  LOAN_AVG_DLQ_AMT  \\\n",
       "0               1             6            2            1              1580   \n",
       "1               1             6            1            1              4020   \n",
       "2               1            11            0            0                 0   \n",
       "3               1             6            3            1  1589,92333333333   \n",
       "4               1            16            2            1           1152,15   \n",
       "\n",
       "  LOAN_MAX_DLQ_AMT PREVIOUS_CARD_NUM_UTILIZED  \n",
       "0             1580                        NaN  \n",
       "1             4020                        NaN  \n",
       "2                0                        NaN  \n",
       "3             1590                        NaN  \n",
       "4             2230                        NaN  \n",
       "\n",
       "[5 rows x 52 columns]"
      ]
     },
     "execution_count": 139,
     "metadata": {},
     "output_type": "execute_result"
    }
   ],
   "source": [
    "df_train.head()"
   ]
  },
  {
   "cell_type": "markdown",
   "metadata": {},
   "source": [
    "## Объединим две выборки\n",
    "\n",
    "Так как пока мы пока не умеем работать sklearn  Pipeline, то для того, чтобы после предобработки столбцы в двух выборках находились на своих местах.\n",
    "\n",
    "Для того, чтобы в дальнейшем отделить их введем новый столбец \"sample\""
   ]
  },
  {
   "cell_type": "code",
   "execution_count": 140,
   "metadata": {
    "collapsed": true
   },
   "outputs": [],
   "source": [
    "df_train.loc[:, 'sample'] = 'train'\n",
    "df_test.loc[:, 'sample'] = 'test'"
   ]
  },
  {
   "cell_type": "code",
   "execution_count": 141,
   "metadata": {
    "collapsed": true
   },
   "outputs": [],
   "source": [
    "df = df_test.append(df_train).reset_index(drop=True)"
   ]
  },
  {
   "cell_type": "code",
   "execution_count": 142,
   "metadata": {
    "collapsed": true
   },
   "outputs": [
    {
     "data": {
      "text/plain": [
       "(30133, 53)"
      ]
     },
     "execution_count": 142,
     "metadata": {},
     "output_type": "execute_result"
    }
   ],
   "source": [
    "df.shape"
   ]
  },
  {
   "cell_type": "markdown",
   "metadata": {},
   "source": [
    "### Чуть-чуть посмотрим на данные"
   ]
  },
  {
   "cell_type": "markdown",
   "metadata": {},
   "source": [
    "Посмотрим типы данных и их заполняемость"
   ]
  },
  {
   "cell_type": "code",
   "execution_count": 143,
   "metadata": {
    "collapsed": true,
    "scrolled": false
   },
   "outputs": [
    {
     "name": "stdout",
     "output_type": "stream",
     "text": [
      "<class 'pandas.core.frame.DataFrame'>\n",
      "RangeIndex: 30133 entries, 0 to 30132\n",
      "Data columns (total 53 columns):\n",
      "AGREEMENT_RK                  30133 non-null int64\n",
      "TARGET                        30133 non-null int64\n",
      "AGE                           30133 non-null int64\n",
      "SOCSTATUS_WORK_FL             30133 non-null int64\n",
      "SOCSTATUS_PENS_FL             30133 non-null int64\n",
      "GENDER                        30133 non-null int64\n",
      "CHILD_TOTAL                   30133 non-null int64\n",
      "DEPENDANTS                    30133 non-null int64\n",
      "EDUCATION                     30133 non-null object\n",
      "MARITAL_STATUS                30133 non-null object\n",
      "GEN_INDUSTRY                  27420 non-null object\n",
      "GEN_TITLE                     27420 non-null object\n",
      "ORG_TP_STATE                  27420 non-null object\n",
      "ORG_TP_FCAPITAL               27425 non-null object\n",
      "JOB_DIR                       27420 non-null object\n",
      "FAMILY_INCOME                 30133 non-null object\n",
      "PERSONAL_INCOME               30133 non-null object\n",
      "REG_ADDRESS_PROVINCE          30133 non-null object\n",
      "FACT_ADDRESS_PROVINCE         30133 non-null object\n",
      "POSTAL_ADDRESS_PROVINCE       30133 non-null object\n",
      "TP_PROVINCE                   29543 non-null object\n",
      "REGION_NM                     30131 non-null object\n",
      "REG_FACT_FL                   30133 non-null int64\n",
      "FACT_POST_FL                  30133 non-null int64\n",
      "REG_POST_FL                   30133 non-null int64\n",
      "REG_FACT_POST_FL              30133 non-null int64\n",
      "REG_FACT_POST_TP_FL           30133 non-null int64\n",
      "FL_PRESENCE_FL                30133 non-null int64\n",
      "OWN_AUTO                      30133 non-null int64\n",
      "AUTO_RUS_FL                   30133 non-null int64\n",
      "HS_PRESENCE_FL                30133 non-null int64\n",
      "COT_PRESENCE_FL               30133 non-null int64\n",
      "GAR_PRESENCE_FL               30133 non-null int64\n",
      "LAND_PRESENCE_FL              30133 non-null int64\n",
      "CREDIT                        30133 non-null object\n",
      "TERM                          30133 non-null int64\n",
      "FST_PAYMENT                   30133 non-null object\n",
      "DL_DOCUMENT_FL                30133 non-null int64\n",
      "GPF_DOCUMENT_FL               30133 non-null int64\n",
      "FACT_LIVING_TERM              30133 non-null int64\n",
      "WORK_TIME                     27416 non-null float64\n",
      "FACT_PHONE_FL                 30133 non-null int64\n",
      "REG_PHONE_FL                  30133 non-null int64\n",
      "GEN_PHONE_FL                  30133 non-null int64\n",
      "LOAN_NUM_TOTAL                30133 non-null int64\n",
      "LOAN_NUM_CLOSED               30133 non-null int64\n",
      "LOAN_NUM_PAYM                 30133 non-null int64\n",
      "LOAN_DLQ_NUM                  30133 non-null int64\n",
      "LOAN_MAX_DLQ                  30133 non-null int64\n",
      "LOAN_AVG_DLQ_AMT              30133 non-null object\n",
      "LOAN_MAX_DLQ_AMT              30133 non-null object\n",
      "PREVIOUS_CARD_NUM_UTILIZED    600 non-null float64\n",
      "sample                        30133 non-null object\n",
      "dtypes: float64(2), int64(32), object(19)\n",
      "memory usage: 12.2+ MB\n"
     ]
    }
   ],
   "source": [
    "df.info()"
   ]
  },
  {
   "cell_type": "markdown",
   "metadata": {},
   "source": [
    "Видим, что часть данных - object, скорее всего стоки.\n",
    "\n",
    "\n",
    "Давайте выведем эти значения для каждого столбца"
   ]
  },
  {
   "cell_type": "code",
   "execution_count": null,
   "metadata": {
    "collapsed": true
   },
   "outputs": [],
   "source": [
    "def echo_columns_unique_values(data):\n",
    "    for i in data.columns: # перебираем все столбцы\n",
    "        if str(data[i].dtype) == 'object': # если тип столбца - object\n",
    "            print('='*10)\n",
    "            print(i) # выводим название столбца\n",
    "            print(set(data[i])) # выводим все его значения (но делаем set - чтоб значения не повторялись)\n",
    "            print('\\n') # выводим пустую строку\n",
    "            \n",
    "echo_columns_unique_values(df)"
   ]
  },
  {
   "cell_type": "markdown",
   "metadata": {},
   "source": [
    "Mожно заметить что некоторые переменные, которые обозначены как строки (например PERSONAL_INCOME) на самом деле числа, но по какой-то причине были распознаны как строки\n",
    "\n",
    "Причина же что использовалась запятая для разделения не целой части числа.."
   ]
  },
  {
   "cell_type": "markdown",
   "metadata": {},
   "source": [
    "Перекодировать их можно например так:"
   ]
  },
  {
   "cell_type": "code",
   "execution_count": 145,
   "metadata": {
    "collapsed": true
   },
   "outputs": [],
   "source": [
    "# перенесено в Задание 1."
   ]
  },
  {
   "cell_type": "markdown",
   "metadata": {},
   "source": [
    "Такой эффект наблюдается в столбцах `PERSONAL_INCOME`, `CREDIT`, `FST_PAYMENT`, `LOAN_AVG_DLQ_AMT`, `LOAN_MAX_DLQ_AMT`"
   ]
  },
  {
   "cell_type": "markdown",
   "metadata": {},
   "source": [
    "### Теперь ваше небольшое исследование"
   ]
  },
  {
   "cell_type": "markdown",
   "metadata": {},
   "source": [
    "#### Задание 1. Есть ли пропуски в данных? Что с ними сделать?\n",
    "\n",
    "(единственного верного ответа нет - аргументируйте)"
   ]
  },
  {
   "cell_type": "code",
   "execution_count": 146,
   "metadata": {
    "collapsed": true
   },
   "outputs": [],
   "source": [
    "def show_skipped_data(data, descr_data):\n",
    "    df_skipped = data.groupby(['sample']).aggregate(lambda x: x.isnull().mean()).T\n",
    "    df_skipped = df_skipped[ (df_skipped['test']>0) | (df_skipped['train']>0)]\n",
    "    df_skipped.loc[:,'description'] = descr_data.set_index(['ПОЛЕ']).loc[df_skipped.index]['ОПИСАНИЕ']\n",
    "    return df_skipped"
   ]
  },
  {
   "cell_type": "code",
   "execution_count": 147,
   "metadata": {},
   "outputs": [
    {
     "data": {
      "text/html": [
       "<div>\n",
       "<style scoped>\n",
       "    .dataframe tbody tr th:only-of-type {\n",
       "        vertical-align: middle;\n",
       "    }\n",
       "\n",
       "    .dataframe tbody tr th {\n",
       "        vertical-align: top;\n",
       "    }\n",
       "\n",
       "    .dataframe thead th {\n",
       "        text-align: right;\n",
       "    }\n",
       "</style>\n",
       "<table border=\"1\" class=\"dataframe\">\n",
       "  <thead>\n",
       "    <tr style=\"text-align: right;\">\n",
       "      <th>sample</th>\n",
       "      <th>test</th>\n",
       "      <th>train</th>\n",
       "      <th>description</th>\n",
       "    </tr>\n",
       "  </thead>\n",
       "  <tbody>\n",
       "    <tr>\n",
       "      <th>GEN_INDUSTRY</th>\n",
       "      <td>0.090275</td>\n",
       "      <td>0.089798</td>\n",
       "      <td>отрасль работы клиента</td>\n",
       "    </tr>\n",
       "    <tr>\n",
       "      <th>GEN_TITLE</th>\n",
       "      <td>0.090275</td>\n",
       "      <td>0.089798</td>\n",
       "      <td>должность</td>\n",
       "    </tr>\n",
       "    <tr>\n",
       "      <th>ORG_TP_STATE</th>\n",
       "      <td>0.090275</td>\n",
       "      <td>0.089798</td>\n",
       "      <td>форма собственности компании</td>\n",
       "    </tr>\n",
       "    <tr>\n",
       "      <th>ORG_TP_FCAPITAL</th>\n",
       "      <td>0.090074</td>\n",
       "      <td>0.089667</td>\n",
       "      <td>отношение к иностранному капиталу</td>\n",
       "    </tr>\n",
       "    <tr>\n",
       "      <th>JOB_DIR</th>\n",
       "      <td>0.090275</td>\n",
       "      <td>0.089798</td>\n",
       "      <td>направление деятельности в нутри компании</td>\n",
       "    </tr>\n",
       "    <tr>\n",
       "      <th>TP_PROVINCE</th>\n",
       "      <td>0.019785</td>\n",
       "      <td>0.019379</td>\n",
       "      <td>область торговой точки, где клиент брал послед...</td>\n",
       "    </tr>\n",
       "    <tr>\n",
       "      <th>REGION_NM</th>\n",
       "      <td>0.000067</td>\n",
       "      <td>0.000066</td>\n",
       "      <td>регион РФ</td>\n",
       "    </tr>\n",
       "    <tr>\n",
       "      <th>WORK_TIME</th>\n",
       "      <td>0.090476</td>\n",
       "      <td>0.089864</td>\n",
       "      <td>время работы на текущем месте (в месяцах)</td>\n",
       "    </tr>\n",
       "    <tr>\n",
       "      <th>PREVIOUS_CARD_NUM_UTILIZED</th>\n",
       "      <td>0.979074</td>\n",
       "      <td>0.981081</td>\n",
       "      <td>количество уже утилизированных карт ( если пус...</td>\n",
       "    </tr>\n",
       "  </tbody>\n",
       "</table>\n",
       "</div>"
      ],
      "text/plain": [
       "sample                          test     train  \\\n",
       "GEN_INDUSTRY                0.090275  0.089798   \n",
       "GEN_TITLE                   0.090275  0.089798   \n",
       "ORG_TP_STATE                0.090275  0.089798   \n",
       "ORG_TP_FCAPITAL             0.090074  0.089667   \n",
       "JOB_DIR                     0.090275  0.089798   \n",
       "TP_PROVINCE                 0.019785  0.019379   \n",
       "REGION_NM                   0.000067  0.000066   \n",
       "WORK_TIME                   0.090476  0.089864   \n",
       "PREVIOUS_CARD_NUM_UTILIZED  0.979074  0.981081   \n",
       "\n",
       "sample                                                            description  \n",
       "GEN_INDUSTRY                                           отрасль работы клиента  \n",
       "GEN_TITLE                                                           должность  \n",
       "ORG_TP_STATE                                     форма собственности компании  \n",
       "ORG_TP_FCAPITAL                             отношение к иностранному капиталу  \n",
       "JOB_DIR                             направление деятельности в нутри компании  \n",
       "TP_PROVINCE                 область торговой точки, где клиент брал послед...  \n",
       "REGION_NM                                                           регион РФ  \n",
       "WORK_TIME                           время работы на текущем месте (в месяцах)  \n",
       "PREVIOUS_CARD_NUM_UTILIZED  количество уже утилизированных карт ( если пус...  "
      ]
     },
     "execution_count": 147,
     "metadata": {},
     "output_type": "execute_result"
    }
   ],
   "source": [
    "show_skipped_data(df, df_descr)"
   ]
  },
  {
   "cell_type": "markdown",
   "metadata": {},
   "source": [
    "#### 1.1 Что делаем с REGION_NM\n",
    "Смотрим к каким географисеским данным привязаны неразмеченные наблюдения:"
   ]
  },
  {
   "cell_type": "code",
   "execution_count": 148,
   "metadata": {},
   "outputs": [
    {
     "data": {
      "text/html": [
       "<div>\n",
       "<style scoped>\n",
       "    .dataframe tbody tr th:only-of-type {\n",
       "        vertical-align: middle;\n",
       "    }\n",
       "\n",
       "    .dataframe tbody tr th {\n",
       "        vertical-align: top;\n",
       "    }\n",
       "\n",
       "    .dataframe thead th {\n",
       "        text-align: right;\n",
       "    }\n",
       "</style>\n",
       "<table border=\"1\" class=\"dataframe\">\n",
       "  <thead>\n",
       "    <tr style=\"text-align: right;\">\n",
       "      <th></th>\n",
       "      <th>REG_ADDRESS_PROVINCE</th>\n",
       "      <th>FACT_ADDRESS_PROVINCE</th>\n",
       "      <th>POSTAL_ADDRESS_PROVINCE</th>\n",
       "      <th>REG_FACT_FL</th>\n",
       "      <th>FACT_POST_FL</th>\n",
       "      <th>REG_POST_FL</th>\n",
       "    </tr>\n",
       "  </thead>\n",
       "  <tbody>\n",
       "    <tr>\n",
       "      <th>3099</th>\n",
       "      <td>Новосибирская область</td>\n",
       "      <td>Новосибирская область</td>\n",
       "      <td>Новосибирская область</td>\n",
       "      <td>1</td>\n",
       "      <td>1</td>\n",
       "      <td>1</td>\n",
       "    </tr>\n",
       "    <tr>\n",
       "      <th>17420</th>\n",
       "      <td>Новосибирская область</td>\n",
       "      <td>Новосибирская область</td>\n",
       "      <td>Новосибирская область</td>\n",
       "      <td>1</td>\n",
       "      <td>1</td>\n",
       "      <td>1</td>\n",
       "    </tr>\n",
       "  </tbody>\n",
       "</table>\n",
       "</div>"
      ],
      "text/plain": [
       "        REG_ADDRESS_PROVINCE  FACT_ADDRESS_PROVINCE POSTAL_ADDRESS_PROVINCE  \\\n",
       "3099   Новосибирская область  Новосибирская область   Новосибирская область   \n",
       "17420  Новосибирская область  Новосибирская область   Новосибирская область   \n",
       "\n",
       "       REG_FACT_FL  FACT_POST_FL  REG_POST_FL  \n",
       "3099             1             1            1  \n",
       "17420            1             1            1  "
      ]
     },
     "execution_count": 148,
     "metadata": {},
     "output_type": "execute_result"
    }
   ],
   "source": [
    "df.loc[df['REGION_NM'].isnull()][[\n",
    "    'REG_ADDRESS_PROVINCE', \n",
    "    'FACT_ADDRESS_PROVINCE', \n",
    "    'POSTAL_ADDRESS_PROVINCE', \n",
    "    'REG_FACT_FL', \n",
    "    'FACT_POST_FL', \n",
    "    'REG_POST_FL'\n",
    "]]"
   ]
  },
  {
   "cell_type": "markdown",
   "metadata": {},
   "source": [
    "Видно, что найденные наблюдения привязаны к одной области и совпадают в трех случаях (фактический, регистрации, почтовый).\n",
    "Теперь смотрим какие значения REGION_NM принимают найденные комбинации географических данных:"
   ]
  },
  {
   "cell_type": "code",
   "execution_count": 156,
   "metadata": {},
   "outputs": [
    {
     "data": {
      "text/html": [
       "<div>\n",
       "<style scoped>\n",
       "    .dataframe tbody tr th:only-of-type {\n",
       "        vertical-align: middle;\n",
       "    }\n",
       "\n",
       "    .dataframe tbody tr th {\n",
       "        vertical-align: top;\n",
       "    }\n",
       "\n",
       "    .dataframe thead th {\n",
       "        text-align: right;\n",
       "    }\n",
       "</style>\n",
       "<table border=\"1\" class=\"dataframe\">\n",
       "  <thead>\n",
       "    <tr style=\"text-align: right;\">\n",
       "      <th></th>\n",
       "      <th>AGREEMENT_RK</th>\n",
       "    </tr>\n",
       "    <tr>\n",
       "      <th>REGION_NM</th>\n",
       "      <th></th>\n",
       "    </tr>\n",
       "  </thead>\n",
       "  <tbody>\n",
       "    <tr>\n",
       "      <th>ЗАПАДНО-СИБИРСКИЙ</th>\n",
       "      <td>370</td>\n",
       "    </tr>\n",
       "  </tbody>\n",
       "</table>\n",
       "</div>"
      ],
      "text/plain": [
       "                   AGREEMENT_RK\n",
       "REGION_NM                      \n",
       "ЗАПАДНО-СИБИРСКИЙ           370"
      ]
     },
     "execution_count": 156,
     "metadata": {},
     "output_type": "execute_result"
    }
   ],
   "source": [
    "df.loc[~df['REGION_NM'].isnull()].loc[\n",
    "    (df['REG_ADDRESS_PROVINCE']==\"Новосибирская область\") & (df['REG_FACT_FL']==1) & (df['FACT_POST_FL']==1) & (df['REG_POST_FL']==1)\n",
    "].loc[:,['REGION_NM','AGREEMENT_RK']].groupby(['REGION_NM']).count()"
   ]
  },
  {
   "cell_type": "markdown",
   "metadata": {},
   "source": [
    "##### Вывод 1.1\n",
    "для соответствующией комбинации [REG_ADDRESS_PROVINCE, FACT_ADDRESS_PROVINCE, POSTAL_ADDRESS_PROVINCE] признаку REGION_NM всегда присвоено значение 'ЗАПАДНО-СИБИРСКИЙ', вероятно два незаполненных наблюдения следствие ошибки сбора данных.\n",
    "Заполним недостающие данные в REGION_NM занчением: \"ЗАПАДНО-СИБИРСКИЙ\""
   ]
  },
  {
   "cell_type": "markdown",
   "metadata": {},
   "source": [
    "#### Задание 1.2 Что делаем с PREVIOUS_CARD_NUM_UTILIZED\n",
    "Смотрим описание для этого признака:"
   ]
  },
  {
   "cell_type": "code",
   "execution_count": 159,
   "metadata": {},
   "outputs": [
    {
     "name": "stdout",
     "output_type": "stream",
     "text": [
      "количество уже утилизированных карт ( если пусто - 0) \n"
     ]
    }
   ],
   "source": [
    "print( df_descr.set_index('ПОЛЕ').loc['PREVIOUS_CARD_NUM_UTILIZED','ОПИСАНИЕ'] )"
   ]
  },
  {
   "cell_type": "markdown",
   "metadata": {},
   "source": [
    "##### Вывод 1.2\n",
    "Исходя из описания заполняем неразмеченный признак PREVIOUS_CARD_NUM_UTILIZED = 0"
   ]
  },
  {
   "cell_type": "markdown",
   "metadata": {},
   "source": [
    "#### 1.3 Что делаем с TP_PROVINCE\n",
    "Выявим зависимости между TP_PROVINCE и FACT_ADDRESS_PROVINCE"
   ]
  },
  {
   "cell_type": "code",
   "execution_count": 160,
   "metadata": {},
   "outputs": [
    {
     "data": {
      "text/html": [
       "<div>\n",
       "<style scoped>\n",
       "    .dataframe tbody tr th:only-of-type {\n",
       "        vertical-align: middle;\n",
       "    }\n",
       "\n",
       "    .dataframe tbody tr th {\n",
       "        vertical-align: top;\n",
       "    }\n",
       "\n",
       "    .dataframe thead th {\n",
       "        text-align: right;\n",
       "    }\n",
       "</style>\n",
       "<table border=\"1\" class=\"dataframe\">\n",
       "  <thead>\n",
       "    <tr style=\"text-align: right;\">\n",
       "      <th></th>\n",
       "      <th>AGREEMENT_RK</th>\n",
       "      <th>Вероятность ошибки ручного присвоения признака</th>\n",
       "    </tr>\n",
       "    <tr>\n",
       "      <th>FACT_ADDRESS_PROVINCE</th>\n",
       "      <th></th>\n",
       "      <th></th>\n",
       "    </tr>\n",
       "  </thead>\n",
       "  <tbody>\n",
       "    <tr>\n",
       "      <th>Адыгея</th>\n",
       "      <td>1</td>\n",
       "      <td>0.366300</td>\n",
       "    </tr>\n",
       "    <tr>\n",
       "      <th>Владимирская область</th>\n",
       "      <td>1</td>\n",
       "      <td>0.006061</td>\n",
       "    </tr>\n",
       "    <tr>\n",
       "      <th>Дагестан</th>\n",
       "      <td>1</td>\n",
       "      <td>NaN</td>\n",
       "    </tr>\n",
       "    <tr>\n",
       "      <th>Калужская область</th>\n",
       "      <td>1</td>\n",
       "      <td>0.016529</td>\n",
       "    </tr>\n",
       "    <tr>\n",
       "      <th>Москва</th>\n",
       "      <td>166</td>\n",
       "      <td>0.571429</td>\n",
       "    </tr>\n",
       "    <tr>\n",
       "      <th>Московская область</th>\n",
       "      <td>363</td>\n",
       "      <td>1.000000</td>\n",
       "    </tr>\n",
       "    <tr>\n",
       "      <th>Пензенская область</th>\n",
       "      <td>2</td>\n",
       "      <td>0.033333</td>\n",
       "    </tr>\n",
       "    <tr>\n",
       "      <th>Саратовская область</th>\n",
       "      <td>1</td>\n",
       "      <td>0.017107</td>\n",
       "    </tr>\n",
       "    <tr>\n",
       "      <th>Ставропольский край</th>\n",
       "      <td>1</td>\n",
       "      <td>0.032258</td>\n",
       "    </tr>\n",
       "    <tr>\n",
       "      <th>Тверская область</th>\n",
       "      <td>2</td>\n",
       "      <td>0.010582</td>\n",
       "    </tr>\n",
       "    <tr>\n",
       "      <th>Тульская область</th>\n",
       "      <td>2</td>\n",
       "      <td>0.027397</td>\n",
       "    </tr>\n",
       "    <tr>\n",
       "      <th>Тюменская область</th>\n",
       "      <td>44</td>\n",
       "      <td>0.222826</td>\n",
       "    </tr>\n",
       "    <tr>\n",
       "      <th>Ханты-Мансийский АО</th>\n",
       "      <td>2</td>\n",
       "      <td>0.081448</td>\n",
       "    </tr>\n",
       "    <tr>\n",
       "      <th>Ярославская область</th>\n",
       "      <td>3</td>\n",
       "      <td>0.018229</td>\n",
       "    </tr>\n",
       "  </tbody>\n",
       "</table>\n",
       "</div>"
      ],
      "text/plain": [
       "                       AGREEMENT_RK  \\\n",
       "FACT_ADDRESS_PROVINCE                 \n",
       "Адыгея                            1   \n",
       "Владимирская область              1   \n",
       "Дагестан                          1   \n",
       "Калужская область                 1   \n",
       "Москва                          166   \n",
       "Московская область              363   \n",
       "Пензенская область                2   \n",
       "Саратовская область               1   \n",
       "Ставропольский край               1   \n",
       "Тверская область                  2   \n",
       "Тульская область                  2   \n",
       "Тюменская область                44   \n",
       "Ханты-Мансийский АО               2   \n",
       "Ярославская область               3   \n",
       "\n",
       "                       Вероятность ошибки ручного присвоения признака  \n",
       "FACT_ADDRESS_PROVINCE                                                  \n",
       "Адыгея                                                       0.366300  \n",
       "Владимирская область                                         0.006061  \n",
       "Дагестан                                                          NaN  \n",
       "Калужская область                                            0.016529  \n",
       "Москва                                                       0.571429  \n",
       "Московская область                                           1.000000  \n",
       "Пензенская область                                           0.033333  \n",
       "Саратовская область                                          0.017107  \n",
       "Ставропольский край                                          0.032258  \n",
       "Тверская область                                             0.010582  \n",
       "Тульская область                                             0.027397  \n",
       "Тюменская область                                            0.222826  \n",
       "Ханты-Мансийский АО                                          0.081448  \n",
       "Ярославская область                                          0.018229  "
      ]
     },
     "execution_count": 160,
     "metadata": {},
     "output_type": "execute_result"
    }
   ],
   "source": [
    "def find_dependence_TP_PROVINCE(data):\n",
    "    \n",
    "    unset_data = data.loc[df['TP_PROVINCE'].isnull()].pivot_table(values='AGREEMENT_RK', index='FACT_ADDRESS_PROVINCE', aggfunc='count')\n",
    "    \n",
    "    set_data = data.loc[~data['TP_PROVINCE'].isnull()].copy()\n",
    "    set_data.loc[:,'equals'] = (set_data['TP_PROVINCE'] == set_data['FACT_ADDRESS_PROVINCE'])\n",
    "    set_data = set_data.pivot_table(values='equals', index='FACT_ADDRESS_PROVINCE', aggfunc='mean')\n",
    "\n",
    "    unset_data.loc[:,'Вероятность ошибки ручного присвоения признака'] = 1-set_data['equals']  \n",
    "    \n",
    "    return unset_data\n",
    "\n",
    "find_dependence_TP_PROVINCE(df)\n",
    "    "
   ]
  },
  {
   "cell_type": "code",
   "execution_count": 161,
   "metadata": {},
   "outputs": [
    {
     "name": "stdout",
     "output_type": "stream",
     "text": [
      "Доля откликов в наблюдениях с неразмеченным TP_PROVINCE 25.8% против размеченных 11.6%\n"
     ]
    }
   ],
   "source": [
    "print(\n",
    "    'Доля откликов в наблюдениях с неразмеченным TP_PROVINCE {:.1%} против размеченных {:.1%}'.format(\n",
    "        df_train.loc[df_train['TP_PROVINCE'].isnull()]['TARGET'].mean(), \n",
    "        df_train.loc[~df_train['TP_PROVINCE'].isnull()]['TARGET'].mean()\n",
    "    )\n",
    ")"
   ]
  },
  {
   "cell_type": "markdown",
   "metadata": {},
   "source": [
    "##### Вывод 1.3\n",
    "Основная масса неразмеченных наблюдений приходится на клиентов с фактическим местом: Москва и область, Тюмень.\n",
    "Люди из данных регионов слишком часто берут креиты в других городах, присвоить всем наблюдениям одинаковый признак может привести к накоплению ошибки.\n",
    "Так как признак TP_PROVINCE достаточно значимый с точки зрения предсказания\n",
    "\n",
    "Удалить данные с неразмеченным признаком TP_PROVINCE - значит потерять 2% выборки, при этом, в таких наблюдениях двукратно повышается отклик (TARGET=1)\n",
    "Вероятно эта ошибка не случайна.\n",
    "\n",
    "Вывод: пометим неразмеченный признак TP_PROVINCE как \"Не определено\""
   ]
  },
  {
   "cell_type": "markdown",
   "metadata": {},
   "source": [
    "#### 1.4 Что делаем с GEN_INDUSTRY, GEN_TITLE, ORG_TP_STATE, JOB_DIR\n",
    "Признакои GEN_INDUSTRY, GEN_TITLE, ORG_TP_STATE, JOB_DIR пропущенны одновременно в каждом наблюдении, докажем это, а также то, что если указанные признаки пусты то и признаки WORK_TIME тоже пусты, но ORG_TP_FCAPITAL частично заполнен:"
   ]
  },
  {
   "cell_type": "code",
   "execution_count": 179,
   "metadata": {},
   "outputs": [
    {
     "name": "stdout",
     "output_type": "stream",
     "text": [
      "<class 'pandas.core.frame.DataFrame'>\n",
      "Int64Index: 2713 entries, 1 to 30131\n",
      "Data columns (total 6 columns):\n",
      "GEN_INDUSTRY       0 non-null object\n",
      "GEN_TITLE          0 non-null object\n",
      "ORG_TP_STATE       0 non-null object\n",
      "JOB_DIR            0 non-null object\n",
      "WORK_TIME          0 non-null float64\n",
      "ORG_TP_FCAPITAL    6 non-null object\n",
      "dtypes: float64(1), object(5)\n",
      "memory usage: 148.4+ KB\n"
     ]
    }
   ],
   "source": [
    "df.loc[ df['GEN_INDUSTRY'].isnull() ].loc[:,['GEN_INDUSTRY', 'GEN_TITLE', 'ORG_TP_STATE', 'JOB_DIR', 'WORK_TIME', 'ORG_TP_FCAPITAL']].info()"
   ]
  },
  {
   "cell_type": "markdown",
   "metadata": {},
   "source": [
    "Данные не заполнены в основном для пенсионеров / безработных"
   ]
  },
  {
   "cell_type": "code",
   "execution_count": 197,
   "metadata": {},
   "outputs": [
    {
     "data": {
      "text/html": [
       "<div>\n",
       "<style scoped>\n",
       "    .dataframe tbody tr th:only-of-type {\n",
       "        vertical-align: middle;\n",
       "    }\n",
       "\n",
       "    .dataframe tbody tr th {\n",
       "        vertical-align: top;\n",
       "    }\n",
       "\n",
       "    .dataframe thead th {\n",
       "        text-align: right;\n",
       "    }\n",
       "</style>\n",
       "<table border=\"1\" class=\"dataframe\">\n",
       "  <thead>\n",
       "    <tr style=\"text-align: right;\">\n",
       "      <th></th>\n",
       "      <th>AGREEMENT_RK</th>\n",
       "    </tr>\n",
       "    <tr>\n",
       "      <th>SOCSTATUS_WORK_FL</th>\n",
       "      <th></th>\n",
       "    </tr>\n",
       "  </thead>\n",
       "  <tbody>\n",
       "    <tr>\n",
       "      <th>0</th>\n",
       "      <td>2712</td>\n",
       "    </tr>\n",
       "    <tr>\n",
       "      <th>1</th>\n",
       "      <td>1</td>\n",
       "    </tr>\n",
       "  </tbody>\n",
       "</table>\n",
       "</div>"
      ],
      "text/plain": [
       "                   AGREEMENT_RK\n",
       "SOCSTATUS_WORK_FL              \n",
       "0                          2712\n",
       "1                             1"
      ]
     },
     "execution_count": 197,
     "metadata": {},
     "output_type": "execute_result"
    }
   ],
   "source": [
    "df.loc[ df['GEN_INDUSTRY'].isnull()].loc[:,['AGREEMENT_RK', 'SOCSTATUS_WORK_FL']].groupby('SOCSTATUS_WORK_FL').count()"
   ]
  },
  {
   "cell_type": "code",
   "execution_count": 172,
   "metadata": {},
   "outputs": [
    {
     "name": "stdout",
     "output_type": "stream",
     "text": [
      "Доля откликов в наблюдениях с неразмеченными признаками 3.7% против размеченных 12.7%\n"
     ]
    }
   ],
   "source": [
    "print(\n",
    "    'Доля откликов в наблюдениях с неразмеченными признаками {:.1%} против размеченных {:.1%}'.format(\n",
    "        df_train.loc[df_train['GEN_INDUSTRY'].isnull()]['TARGET'].mean(), \n",
    "        df_train.loc[~df_train['GEN_INDUSTRY'].isnull()]['TARGET'].mean()\n",
    "    )\n",
    ")"
   ]
  },
  {
   "cell_type": "markdown",
   "metadata": {},
   "source": [
    "##### Вывод 1.4\n",
    "Отказ от данных наблюдений недопустим, так как при их значительном весе (9% от всех данных), они сигнализируют о почти 4-х кратном снижении вероятности отклика клиента.\n",
    "\n",
    "Вывод - разметить пустые признаки GEN_INDUSTRY, GEN_TITLE, ORG_TP_STATE, JOB_DIR значением \"Не определено\""
   ]
  },
  {
   "cell_type": "markdown",
   "metadata": {},
   "source": [
    "#### 1.5 Что делаем с ORG_TP_FCAPITAL\n",
    "Мы знаем, что признак ORG_TP_FCAPITAL заполнен в 6 случаях, когда GEN_INDUSTRY пустой, посмотрим сколько раз ORG_TP_FCAPITAL будет пустым, когда GEN_INDUSTRY заполнен:"
   ]
  },
  {
   "cell_type": "code",
   "execution_count": 186,
   "metadata": {},
   "outputs": [
    {
     "data": {
      "text/plain": [
       "1"
      ]
     },
     "execution_count": 186,
     "metadata": {},
     "output_type": "execute_result"
    }
   ],
   "source": [
    "df.loc[ ~df['GEN_INDUSTRY'].isnull() ].loc[ df['ORG_TP_FCAPITAL'].isnull() ].shape[0]"
   ]
  },
  {
   "cell_type": "markdown",
   "metadata": {},
   "source": [
    "1 наблюдение будет на уровне шума для данного признака, но так как все остальное заполнено, терять данные не хотелось бы.\n",
    "##### Вывод 1.5\n",
    "Разметим пустые ORG_TP_FCAPITAL значением \"Не определено\", так как основная доля неразмеченных наблюдений приходится на вывод 1.4"
   ]
  },
  {
   "cell_type": "markdown",
   "metadata": {},
   "source": [
    "#### 1.6 Что делаем с WORK_TIME\n",
    "Проверим зависимость с признаком SOCSTATUS_WORK_FL"
   ]
  },
  {
   "cell_type": "code",
   "execution_count": 228,
   "metadata": {},
   "outputs": [
    {
     "data": {
      "text/html": [
       "<div>\n",
       "<style scoped>\n",
       "    .dataframe tbody tr th:only-of-type {\n",
       "        vertical-align: middle;\n",
       "    }\n",
       "\n",
       "    .dataframe tbody tr th {\n",
       "        vertical-align: top;\n",
       "    }\n",
       "\n",
       "    .dataframe thead th {\n",
       "        text-align: right;\n",
       "    }\n",
       "</style>\n",
       "<table border=\"1\" class=\"dataframe\">\n",
       "  <thead>\n",
       "    <tr style=\"text-align: right;\">\n",
       "      <th></th>\n",
       "      <th>AGREEMENT_RK</th>\n",
       "    </tr>\n",
       "    <tr>\n",
       "      <th>SOCSTATUS_WORK_FL</th>\n",
       "      <th></th>\n",
       "    </tr>\n",
       "  </thead>\n",
       "  <tbody>\n",
       "    <tr>\n",
       "      <th>0</th>\n",
       "      <td>2716</td>\n",
       "    </tr>\n",
       "    <tr>\n",
       "      <th>1</th>\n",
       "      <td>1</td>\n",
       "    </tr>\n",
       "  </tbody>\n",
       "</table>\n",
       "</div>"
      ],
      "text/plain": [
       "                   AGREEMENT_RK\n",
       "SOCSTATUS_WORK_FL              \n",
       "0                          2716\n",
       "1                             1"
      ]
     },
     "execution_count": 228,
     "metadata": {},
     "output_type": "execute_result"
    }
   ],
   "source": [
    "df.loc[df['WORK_TIME'].isnull()].loc[:,['AGREEMENT_RK', 'SOCSTATUS_WORK_FL']].groupby('SOCSTATUS_WORK_FL').count()"
   ]
  },
  {
   "cell_type": "markdown",
   "metadata": {},
   "source": [
    "1 наблюдение установлено для работающего клиента, изучим его:"
   ]
  },
  {
   "cell_type": "code",
   "execution_count": 229,
   "metadata": {},
   "outputs": [
    {
     "data": {
      "text/plain": [
       "22873    NaN\n",
       "Name: GEN_INDUSTRY, dtype: object"
      ]
     },
     "execution_count": 229,
     "metadata": {},
     "output_type": "execute_result"
    }
   ],
   "source": [
    "df.loc[ df['WORK_TIME'].isnull() & (df['SOCSTATUS_WORK_FL']==1) ].loc[:,'GEN_INDUSTRY']"
   ]
  },
  {
   "cell_type": "markdown",
   "metadata": {},
   "source": [
    "Место работы не заполнено, значит и время работы на текущем месте равно нулю\n",
    "##### Вывод 1.6\n",
    "Присвоить всем пустым полям признака WORK_TIME значение = 0"
   ]
  },
  {
   "cell_type": "markdown",
   "metadata": {},
   "source": [
    "#### Задание 2. Есть ли категориальные признаки? Что с ними делать?"
   ]
  },
  {
   "cell_type": "code",
   "execution_count": 225,
   "metadata": {},
   "outputs": [
    {
     "name": "stdout",
     "output_type": "stream",
     "text": [
      "Следующие признаки являются категориальными:\n",
      "EDUCATION\n",
      "MARITAL_STATUS\n",
      "GEN_INDUSTRY\n",
      "GEN_TITLE\n",
      "ORG_TP_STATE\n",
      "ORG_TP_FCAPITAL\n",
      "JOB_DIR\n",
      "FAMILY_INCOME\n",
      "REG_ADDRESS_PROVINCE\n",
      "FACT_ADDRESS_PROVINCE\n",
      "POSTAL_ADDRESS_PROVINCE\n",
      "TP_PROVINCE\n",
      "REGION_NM\n"
     ]
    }
   ],
   "source": [
    "#категориальные признаки\n",
    "print(\"Следующие признаки являются категориальными:\\n\" + '\\n'.join(\n",
    "    [x for x in df.columns if (\n",
    "        (str(df[x].dtype) == 'object') & \n",
    "        ~(x in ['CREDIT','FST_PAYMENT','LOAN_AVG_DLQ_AMT','LOAN_MAX_DLQ_AMT','PERSONAL_INCOME', 'sample'])\n",
    "    )]\n",
    "))\n"
   ]
  },
  {
   "cell_type": "markdown",
   "metadata": {},
   "source": [
    "#### 2.1 Категории EDUCATION"
   ]
  },
  {
   "cell_type": "code",
   "execution_count": 267,
   "metadata": {},
   "outputs": [
    {
     "data": {
      "text/html": [
       "<div>\n",
       "<style scoped>\n",
       "    .dataframe tbody tr th:only-of-type {\n",
       "        vertical-align: middle;\n",
       "    }\n",
       "\n",
       "    .dataframe tbody tr th {\n",
       "        vertical-align: top;\n",
       "    }\n",
       "\n",
       "    .dataframe thead th {\n",
       "        text-align: right;\n",
       "    }\n",
       "</style>\n",
       "<table border=\"1\" class=\"dataframe\">\n",
       "  <thead>\n",
       "    <tr style=\"text-align: right;\">\n",
       "      <th></th>\n",
       "      <th>AGREEMENT_RK</th>\n",
       "      <th>TARGET</th>\n",
       "    </tr>\n",
       "    <tr>\n",
       "      <th>EDUCATION</th>\n",
       "      <th></th>\n",
       "      <th></th>\n",
       "    </tr>\n",
       "  </thead>\n",
       "  <tbody>\n",
       "    <tr>\n",
       "      <th>Ученая степень</th>\n",
       "      <td>1</td>\n",
       "      <td>0.000000</td>\n",
       "    </tr>\n",
       "    <tr>\n",
       "      <th>Высшее</th>\n",
       "      <td>3133</td>\n",
       "      <td>0.106926</td>\n",
       "    </tr>\n",
       "    <tr>\n",
       "      <th>Среднее</th>\n",
       "      <td>4679</td>\n",
       "      <td>0.114768</td>\n",
       "    </tr>\n",
       "    <tr>\n",
       "      <th>Среднее специальное</th>\n",
       "      <td>6518</td>\n",
       "      <td>0.120589</td>\n",
       "    </tr>\n",
       "    <tr>\n",
       "      <th>Неполное среднее</th>\n",
       "      <td>340</td>\n",
       "      <td>0.141176</td>\n",
       "    </tr>\n",
       "    <tr>\n",
       "      <th>Неоконченное высшее</th>\n",
       "      <td>532</td>\n",
       "      <td>0.191729</td>\n",
       "    </tr>\n",
       "    <tr>\n",
       "      <th>Два и более высших образования</th>\n",
       "      <td>20</td>\n",
       "      <td>0.200000</td>\n",
       "    </tr>\n",
       "  </tbody>\n",
       "</table>\n",
       "</div>"
      ],
      "text/plain": [
       "                                AGREEMENT_RK    TARGET\n",
       "EDUCATION                                             \n",
       "Ученая степень                             1  0.000000\n",
       "Высшее                                  3133  0.106926\n",
       "Среднее                                 4679  0.114768\n",
       "Среднее специальное                     6518  0.120589\n",
       "Неполное среднее                         340  0.141176\n",
       "Неоконченное высшее                      532  0.191729\n",
       "Два и более высших образования            20  0.200000"
      ]
     },
     "execution_count": 267,
     "metadata": {},
     "output_type": "execute_result"
    }
   ],
   "source": [
    "df_train.groupby(['EDUCATION']).agg({'AGREEMENT_RK':'count', 'TARGET':'mean'}).sort_values('TARGET')"
   ]
  },
  {
   "cell_type": "markdown",
   "metadata": {},
   "source": [
    "##### Вывод 2.1\n",
    "Для признака EDUCATION при всем желании устновить последовательность, этого делать не стоит, так как значение \"Высшее\" ломает тенденцию по отклику клиентов, хотя по логике должно находится между \"неоконченным высшим\" и \"два и более...\"\n",
    "Значение \"Ученая степень\" встречается единожды и не является репрезентативным, поэтому соединим его со значением \"Два и более высших образования\".\n",
    "Преобразуем значения в индексы, которые позднее преобразем с помощью one_hot метода.\n",
    "\n",
    "Матрица присвоения индексов:"
   ]
  },
  {
   "cell_type": "code",
   "execution_count": null,
   "metadata": {},
   "outputs": [],
   "source": [
    "{'Неполное среднее':0, 'Среднее':1, 'Среднее специальное':2, 'Неоконченное высшее':3, 'Высшее':4, 'Два и более высших образования':5, 'Ученая степень':5}"
   ]
  },
  {
   "cell_type": "markdown",
   "metadata": {},
   "source": [
    "#### 2.2 Категории FAMILY_INCOME\n",
    "Признак FAMILY_INCOME принимает значения:"
   ]
  },
  {
   "cell_type": "code",
   "execution_count": 254,
   "metadata": {},
   "outputs": [
    {
     "data": {
      "text/html": [
       "<div>\n",
       "<style scoped>\n",
       "    .dataframe tbody tr th:only-of-type {\n",
       "        vertical-align: middle;\n",
       "    }\n",
       "\n",
       "    .dataframe tbody tr th {\n",
       "        vertical-align: top;\n",
       "    }\n",
       "\n",
       "    .dataframe thead th {\n",
       "        text-align: right;\n",
       "    }\n",
       "</style>\n",
       "<table border=\"1\" class=\"dataframe\">\n",
       "  <thead>\n",
       "    <tr style=\"text-align: right;\">\n",
       "      <th></th>\n",
       "      <th>AGREEMENT_RK</th>\n",
       "      <th>TARGET</th>\n",
       "    </tr>\n",
       "    <tr>\n",
       "      <th>FAMILY_INCOME</th>\n",
       "      <th></th>\n",
       "      <th></th>\n",
       "    </tr>\n",
       "  </thead>\n",
       "  <tbody>\n",
       "    <tr>\n",
       "      <th>от 5000 до 10000 руб.</th>\n",
       "      <td>1512</td>\n",
       "      <td>0.083333</td>\n",
       "    </tr>\n",
       "    <tr>\n",
       "      <th>до 5000 руб.</th>\n",
       "      <td>60</td>\n",
       "      <td>0.100000</td>\n",
       "    </tr>\n",
       "    <tr>\n",
       "      <th>от 10000 до 20000 руб.</th>\n",
       "      <td>7077</td>\n",
       "      <td>0.108662</td>\n",
       "    </tr>\n",
       "    <tr>\n",
       "      <th>от 20000 до 50000 руб.</th>\n",
       "      <td>6082</td>\n",
       "      <td>0.131042</td>\n",
       "    </tr>\n",
       "    <tr>\n",
       "      <th>свыше 50000 руб.</th>\n",
       "      <td>492</td>\n",
       "      <td>0.231707</td>\n",
       "    </tr>\n",
       "  </tbody>\n",
       "</table>\n",
       "</div>"
      ],
      "text/plain": [
       "                        AGREEMENT_RK    TARGET\n",
       "FAMILY_INCOME                                 \n",
       "от 5000 до 10000 руб.           1512  0.083333\n",
       "до 5000 руб.                      60  0.100000\n",
       "от 10000 до 20000 руб.          7077  0.108662\n",
       "от 20000 до 50000 руб.          6082  0.131042\n",
       "свыше 50000 руб.                 492  0.231707"
      ]
     },
     "execution_count": 254,
     "metadata": {},
     "output_type": "execute_result"
    }
   ],
   "source": [
    "df_train.groupby(['FAMILY_INCOME']).agg({'AGREEMENT_RK':'count', 'TARGET':'mean'}).sort_values('TARGET')"
   ]
  },
  {
   "cell_type": "markdown",
   "metadata": {},
   "source": [
    "##### Вывод 2.2\n",
    "В данном признаке наблюдается последовательность, заменим значения в том же признаке числовыми последовательными индексами, соответственно реализуем ее следующей матрицей:"
   ]
  },
  {
   "cell_type": "code",
   "execution_count": null,
   "metadata": {},
   "outputs": [],
   "source": [
    "{'до 5000 руб.':0, 'от 5000 до 10000 руб.':1, 'от 10000 до 20000 руб.':2, 'от 20000 до 50000 руб.':3, 'свыше 50000 руб.':4}"
   ]
  },
  {
   "cell_type": "markdown",
   "metadata": {},
   "source": [
    "#### 2.2.2 Числовые категории\n",
    "Когда начал тестить черный ящик, понял, что фонит в данных очень сильно и начал руками чистить.\n",
    "Написал следующие функции и тестировал с их помощью каждый столбец, чтобы подобрать оптимальные сочетания:"
   ]
  },
  {
   "cell_type": "code",
   "execution_count": null,
   "metadata": {},
   "outputs": [],
   "source": [
    "def identify_clumn(column):\n",
    "    dft = df_train.groupby([column]).agg({'AGREEMENT_RK':'count','TARGET':'mean'}).sort_values(['TARGET'])\n",
    "    return dft\n",
    "\n",
    "def identity_by_barier(column, barier):\n",
    "    dft = dddd.copy()\n",
    "    dft.loc[:,'added'] = dft[column].map(lambda x: x <= barier)\n",
    "    dft = dft.groupby(['added']).agg({'AGREEMENT_RK':'count','TARGET':'mean'}).sort_values(['TARGET'])\n",
    "    return dft\n",
    "\n",
    "def identity_by_groups(column, barier, maximum = 10000):\n",
    "    dft = dddd.copy()\n",
    "    dft.loc[:,'added'] = dft[column].map(lambda x: x // barier if x // barier < maximum else maximum)\n",
    "    dft = dft.groupby(['added']).agg({'AGREEMENT_RK':'count','TARGET':'mean'}).sort_values(['TARGET'])\n",
    "    return dft"
   ]
  },
  {
   "cell_type": "markdown",
   "metadata": {},
   "source": [
    "После чего определели следующие корректировки числовых признаков:"
   ]
  },
  {
   "cell_type": "code",
   "execution_count": null,
   "metadata": {},
   "outputs": [],
   "source": [
    "#df_output.loc[:, 'CHILD_TOTAL'] = df_output.loc[:, 'CHILD_TOTAL'].map(lambda x: 0 if x <= 2 else 1)\n",
    "#df_output.loc[:, 'DEPENDANTS'] = df_output.loc[:, 'DEPENDANTS'].map(lambda x: x if (x < 2) else 2)\n",
    "#df_output.loc[:, 'AGE'] = df_output.loc[:, 'AGE'].map(lambda x: x // 10)\n",
    "#df_output.loc[:, 'PERSONAL_INCOME'] = df_output.loc[:, 'PERSONAL_INCOME'].map(lambda x: x // 10000 if (x // 10000) < 3 else 3 )\n",
    "#df_output.loc[:, 'OWN_AUTO'] = df_output.loc[:, 'CHILD_TOTAL'].map(lambda x: 0 if x == 0 else 1)\n",
    "#df_output.loc[:, 'CREDIT'] = df_output.loc[:, 'CREDIT'].map(lambda x: 0 if x < 20000 else 1)\n",
    "#df_output.loc[:, 'TERM'] = df_output.loc[:, 'TERM'].map(lambda x: x // 5 if (x//5 < 3) else 3)\n",
    "#df_output.loc[:, 'FACT_LIVING_TERM'] = df_output.loc[:, 'FACT_LIVING_TERM'].map(lambda x: x // 60 if (x//60 < 5) else 5).map(lambda x: x if x > 0 else 0)\n",
    "#df_output.loc[:, 'WORK_TIME'] = df_output.loc[:, 'WORK_TIME'].map(lambda x: x // 90 if (x//90 < 5) else 5)\n",
    "#df_output.loc[:, 'LOAN_NUM_TOTAL'] = df_output.loc[:, 'FACT_LIVING_TERM'].map(lambda x: 1 if x==1 else 2)\n",
    "#df_output.loc[:, 'LOAN_NUM_CLOSED'] = df_output.loc[:, 'LOAN_NUM_CLOSED'].map(lambda x: x if x<2 else 2)\n",
    "#df_output.loc[:, 'LOAN_NUM_PAYM'] = df_output.loc[:, 'LOAN_NUM_PAYM'].map(lambda x: 0 if x<=6 else 1)\n",
    "#df_output.loc[:, 'LOAN_DLQ_NUM'] = df_output.loc[:, 'LOAN_DLQ_NUM'].map(lambda x: 0 if x<1 else 1)\n",
    "#df_output.loc[:, 'PREVIOUS_CARD_NUM_UTILIZED'] = df_output.loc[:, 'PREVIOUS_CARD_NUM_UTILIZED'].map(lambda x: 0 if x<1 else 1)"
   ]
  },
  {
   "cell_type": "markdown",
   "metadata": {},
   "source": [
    "Также с помощью этих же функций определил данные, в которых я не видел однозначной зависимости, к тому же их включение в выборку резко роняло recall"
   ]
  },
  {
   "cell_type": "code",
   "execution_count": null,
   "metadata": {},
   "outputs": [],
   "source": [
    "droped = [\n",
    "    'EDUCATION',\n",
    "    'GEN_INDUSTRY',\n",
    "    'GEN_TITLE',\n",
    "    'ORG_TP_FCAPITAL',\n",
    "    'JOB_DIR',\n",
    "    'REG_ADDRESS_PROVINCE',\n",
    "    'FACT_ADDRESS_PROVINCE',\n",
    "    'POSTAL_ADDRESS_PROVINCE',\n",
    "    'TP_PROVINCE',\n",
    "    'CHILD_TOTAL',\n",
    "    'AUTO_RUS_FL',\n",
    "    'FST_PAYMENT',\n",
    "    'DL_DOCUMENT_FL',\n",
    "    'GPF_DOCUMENT_FL',\n",
    "    'REG_PHONE_FL',\n",
    "    'LOAN_MAX_DLQ',\n",
    "    'LOAN_AVG_DLQ_AMT',\n",
    "    'REGION_NM'\n",
    "]"
   ]
  },
  {
   "cell_type": "markdown",
   "metadata": {},
   "source": [
    "#### 2.3 Категории по остальным признакам\n",
    "По остальным категориальным признакам логичные последовательности отсутствуют, будем все их разворачивать методом one_hot"
   ]
  },
  {
   "cell_type": "code",
   "execution_count": 257,
   "metadata": {},
   "outputs": [
    {
     "data": {
      "text/plain": [
       "['EDUCATION',\n",
       " 'MARITAL_STATUS',\n",
       " 'GEN_INDUSTRY',\n",
       " 'GEN_TITLE',\n",
       " 'ORG_TP_STATE',\n",
       " 'ORG_TP_FCAPITAL',\n",
       " 'JOB_DIR',\n",
       " 'REG_ADDRESS_PROVINCE',\n",
       " 'FACT_ADDRESS_PROVINCE',\n",
       " 'POSTAL_ADDRESS_PROVINCE',\n",
       " 'TP_PROVINCE',\n",
       " 'REGION_NM']"
      ]
     },
     "execution_count": 257,
     "metadata": {},
     "output_type": "execute_result"
    }
   ],
   "source": [
    "[x for x in df.columns if (\n",
    "    (str(df[x].dtype) == 'object') & \n",
    "    ~(x in ['CREDIT','FST_PAYMENT','LOAN_AVG_DLQ_AMT','LOAN_MAX_DLQ_AMT','PERSONAL_INCOME', 'sample', 'FAMILY_INCOME'])\n",
    ")]"
   ]
  },
  {
   "cell_type": "markdown",
   "metadata": {},
   "source": [
    "#### Задание 3. Фунция предобработки"
   ]
  },
  {
   "cell_type": "markdown",
   "metadata": {},
   "source": [
    "Напишите функцию, которая бы\n",
    "\n",
    "* Удаляло идентификатор `AGREEMENT_RK`\n",
    "* Избавлялась от проблем с '.' и ',' в стобцах PERSONAL_INCOME, CREDIT, FST_PAYMENT, LOAN_AVG_DLQ_AMT, LOAN_MAX_DLQ_AMT\n",
    "* Что-то делала с пропусками\n",
    "* Кодировала категориальные признаки\n",
    "\n",
    "В результате, ваш датафрейм должен содержать только числа и не содержать пропусков!"
   ]
  },
  {
   "cell_type": "code",
   "execution_count": 910,
   "metadata": {
    "collapsed": true
   },
   "outputs": [],
   "source": [
    "def preproc_data(df_input):\n",
    "    \n",
    "    df_output = df_input.copy()\n",
    "    \n",
    "    #удаляем созданный автором выгрузки идентификатор наблюдений\n",
    "    df_output = df_output.drop(columns='AGREEMENT_RK')\n",
    "    \n",
    "    str_to_num = ['CREDIT','FST_PAYMENT','LOAN_AVG_DLQ_AMT','LOAN_MAX_DLQ_AMT','PERSONAL_INCOME']\n",
    "    set_undefined = ['TP_PROVINCE', 'GEN_INDUSTRY', 'GEN_TITLE', 'ORG_TP_STATE', 'JOB_DIR', 'ORG_TP_FCAPITAL']\n",
    "    \n",
    "    undefined_value = 'Не_определно'\n",
    "    \n",
    "    #превращаем строки в числа\n",
    "    for cname in str_to_num:\n",
    "        df_output[cname] = df_output[cname].map(lambda x: x.replace(',','.')).astype('float')\n",
    "    \n",
    "    #согласно выводу 1.1\n",
    "    df_output.loc[df_output['REGION_NM'].isnull(), 'REGION_NM'] = \"ЗАПАДНО-СИБИРСКИЙ\"\n",
    "    \n",
    "    #согласно выводу 1.2\n",
    "    df_output.loc[(df_output['PREVIOUS_CARD_NUM_UTILIZED'].isnull()),'PREVIOUS_CARD_NUM_UTILIZED'] = 0 #установим 0 для всех неразмеченных данных\n",
    "    \n",
    "    #согласно выводам 1.3, 1.4, 1.5\n",
    "    for cname in set_undefined:\n",
    "        df_output.loc[df_output[cname].isnull(), cname] = undefined_value\n",
    "    \n",
    "    #согласно выводу 1.6\n",
    "    df_output.loc[df_output['WORK_TIME'].isnull(), 'WORK_TIME'] = 0\n",
    "    \n",
    "    #согласно выводу 2.1\n",
    "    EDUCATION_indexes = {\n",
    "        'Неполное среднее':0, \n",
    "        'Среднее':1, \n",
    "        'Среднее специальное':2, \n",
    "        'Неоконченное высшее':3, \n",
    "        'Высшее':4, \n",
    "        'Два и более высших образования':5, \n",
    "        'Ученая степень':5\n",
    "    }\n",
    "    \n",
    "    df_output.loc[:, 'EDUCATION'] = df_output.loc[:, 'EDUCATION'].map(EDUCATION_indexes) \n",
    "\n",
    "    #согласно выводу 2.2\n",
    "    FAMILY_INCOME_indexes = {\n",
    "        'до 5000 руб.':0, \n",
    "        'от 5000 до 10000 руб.':0, \n",
    "        'от 10000 до 20000 руб.':1, \n",
    "        'от 20000 до 50000 руб.':2, \n",
    "        'свыше 50000 руб.':3\n",
    "    }\n",
    "    \n",
    "    df_output.loc[:, 'FAMILY_INCOME'] = df_output.loc[:, 'FAMILY_INCOME'].map(FAMILY_INCOME_indexes)  \n",
    "    \n",
    "    #согласно выводу 2.2.1\n",
    "    df_output.loc[:, 'CHILD_TOTAL'] = df_output.loc[:, 'CHILD_TOTAL'].map(lambda x: 0 if x <= 2 else 1)\n",
    "    df_output.loc[:, 'DEPENDANTS'] = df_output.loc[:, 'DEPENDANTS'].map(lambda x: x if (x < 2) else 2)\n",
    "    df_output.loc[:, 'AGE'] = df_output.loc[:, 'AGE'].map(lambda x: x // 10)\n",
    "    df_output.loc[:, 'PERSONAL_INCOME'] = df_output.loc[:, 'PERSONAL_INCOME'].map(lambda x: x // 10000 if (x // 10000) < 3 else 3 )\n",
    "    df_output.loc[:, 'OWN_AUTO'] = df_output.loc[:, 'CHILD_TOTAL'].map(lambda x: 0 if x == 0 else 1)\n",
    "    df_output.loc[:, 'CREDIT'] = df_output.loc[:, 'CREDIT'].map(lambda x: 0 if x < 20000 else 1)\n",
    "    df_output.loc[:, 'TERM'] = df_output.loc[:, 'TERM'].map(lambda x: x // 5 if (x//5 < 3) else 3)\n",
    "    df_output.loc[:, 'FACT_LIVING_TERM'] = df_output.loc[:, 'FACT_LIVING_TERM'].map(lambda x: x // 60 if (x//60 < 5) else 5).map(lambda x: x if x > 0 else 0)\n",
    "    df_output.loc[:, 'WORK_TIME'] = df_output.loc[:, 'WORK_TIME'].map(lambda x: x // 90 if (x//90 < 5) else 5)\n",
    "    df_output.loc[:, 'LOAN_NUM_TOTAL'] = df_output.loc[:, 'FACT_LIVING_TERM'].map(lambda x: 1 if x==1 else 2)\n",
    "    df_output.loc[:, 'LOAN_NUM_CLOSED'] = df_output.loc[:, 'LOAN_NUM_CLOSED'].map(lambda x: x if x<2 else 2)\n",
    "    df_output.loc[:, 'LOAN_NUM_PAYM'] = df_output.loc[:, 'LOAN_NUM_PAYM'].map(lambda x: 0 if x<=6 else 1)\n",
    "    df_output.loc[:, 'LOAN_DLQ_NUM'] = df_output.loc[:, 'LOAN_DLQ_NUM'].map(lambda x: 0 if x<1 else 1)\n",
    "    df_output.loc[:, 'PREVIOUS_CARD_NUM_UTILIZED'] = df_output.loc[:, 'PREVIOUS_CARD_NUM_UTILIZED'].map(lambda x: 0 if x<1 else 1)\n",
    "    \n",
    "    droped = [\n",
    "        #'EDUCATION',\n",
    "        'GEN_INDUSTRY',\n",
    "        'GEN_TITLE',\n",
    "        'ORG_TP_FCAPITAL',\n",
    "        'JOB_DIR',\n",
    "        'REG_ADDRESS_PROVINCE',\n",
    "        'FACT_ADDRESS_PROVINCE',\n",
    "        'POSTAL_ADDRESS_PROVINCE',\n",
    "        'TP_PROVINCE',\n",
    "        'CHILD_TOTAL',\n",
    "        'AUTO_RUS_FL',\n",
    "        'FST_PAYMENT',\n",
    "        'DL_DOCUMENT_FL',\n",
    "        'GPF_DOCUMENT_FL',\n",
    "        'REG_PHONE_FL',\n",
    "        'LOAN_MAX_DLQ',\n",
    "        'LOAN_AVG_DLQ_AMT',\n",
    "        'REGION_NM'\n",
    "    ]\n",
    "    \n",
    "    df_output = df_output.drop(columns=droped)\n",
    "    \n",
    "    #согласно выводу 2.3\n",
    "    one_hot_categories = [\n",
    "        'EDUCATION',\n",
    "         'MARITAL_STATUS',\n",
    "         'GEN_INDUSTRY',\n",
    "         'GEN_TITLE',\n",
    "         'ORG_TP_STATE',\n",
    "         'ORG_TP_FCAPITAL',\n",
    "         'JOB_DIR',\n",
    "         'REG_ADDRESS_PROVINCE',\n",
    "         'FACT_ADDRESS_PROVINCE',\n",
    "         'POSTAL_ADDRESS_PROVINCE',\n",
    "         'TP_PROVINCE',\n",
    "         'REGION_NM'\n",
    "    ]\n",
    "    \n",
    "    one_hot_categories = [x for x in one_hot_categories if not x in droped]\n",
    "    \n",
    "    df_output = pd.get_dummies(df_output, columns=one_hot_categories)\n",
    "    \n",
    "    \n",
    "    \n",
    "    return df_output"
   ]
  },
  {
   "cell_type": "code",
   "execution_count": 911,
   "metadata": {
    "collapsed": true
   },
   "outputs": [],
   "source": [
    "df_preproc = df.pipe(preproc_data)\n",
    "\n",
    "df_train_preproc = df_preproc.query('sample == \"train\"').drop(['sample'], axis=1)\n",
    "df_test_preproc = df_preproc.query('sample == \"test\"').drop(['sample'], axis=1)"
   ]
  },
  {
   "cell_type": "markdown",
   "metadata": {},
   "source": [
    "#### Задание 4. Отделите целевую переменную и остальные признаки\n",
    "\n",
    "Должно получится:\n",
    "* 2 матрицы: X и X_test\n",
    "* 2 вектора: y и y_test"
   ]
  },
  {
   "cell_type": "code",
   "execution_count": 912,
   "metadata": {
    "collapsed": true
   },
   "outputs": [],
   "source": [
    "X = df_train_preproc.drop(columns='TARGET')\n",
    "X_test = df_test_preproc.drop(columns='TARGET')\n",
    "\n",
    "y = df_train_preproc['TARGET']\n",
    "y_test = df_test_preproc['TARGET']"
   ]
  },
  {
   "cell_type": "markdown",
   "metadata": {},
   "source": [
    "#### Задание 5. Обучение и оценка качества разных моделей"
   ]
  },
  {
   "cell_type": "code",
   "execution_count": 913,
   "metadata": {
    "collapsed": true
   },
   "outputs": [],
   "source": [
    "from sklearn.cross_validation import train_test_split\n",
    "# test_size=0.3, random_state=42\n",
    "\n",
    "X_tr, X_ts, y_tr, y_ts = train_test_split(X, y, test_size=0.3, random_state=42)"
   ]
  },
  {
   "cell_type": "code",
   "execution_count": 914,
   "metadata": {
    "collapsed": true
   },
   "outputs": [
    {
     "name": "stdout",
     "output_type": "stream",
     "text": [
      "Wall time: 213 ms\n"
     ]
    }
   ],
   "source": [
    "%%time\n",
    "# Попробовать следующие \"черные ящики\": интерфейс одинаковый \n",
    "#     fit, \n",
    "#     predict, \n",
    "#     predict_proba\n",
    "\n",
    "from sklearn.tree import DecisionTreeClassifier\n",
    "from sklearn.ensemble import RandomForestClassifier\n",
    "from sklearn.linear_model import LogisticRegression\n",
    "\n",
    "def run_black_box(box, X_train, y_train, X_test):\n",
    "    box.fit(X_train, y_train)\n",
    "    predict = box.predict(X_test)\n",
    "    predict_proba = box.predict_proba(X_test)\n",
    "    return predict, predict_proba\n",
    "\n",
    "dtc_predict, dtc_predict_proba = run_black_box(\n",
    "    DecisionTreeClassifier(random_state = 42),\n",
    "    X_tr, y_tr, X_ts\n",
    ")\n",
    "\n",
    "rfc_predict, rfc_predict_proba = run_black_box(\n",
    "    RandomForestClassifier(n_estimators=10, random_state = 42),\n",
    "    X_tr, y_tr, X_ts\n",
    ")\n",
    "\n",
    "lr_predict, lr_predict_proba = run_black_box(\n",
    "    LogisticRegression(random_state = 42),\n",
    "    X_tr, y_tr, X_ts\n",
    ")"
   ]
  },
  {
   "cell_type": "code",
   "execution_count": 915,
   "metadata": {
    "collapsed": true
   },
   "outputs": [
    {
     "name": "stdout",
     "output_type": "stream",
     "text": [
      "DecisionTreeClassifier\n",
      "precision = 15.82%\n",
      "recall = 19.64%\n",
      "accuracy = 77.53%\n",
      "f1 = 17.52%\n",
      "\n",
      "\n",
      "RandomForestClassifier\n",
      "precision = 15.00%\n",
      "recall = 1.08%\n",
      "accuracy = 87.23%\n",
      "f1 = 2.02%\n",
      "\n",
      "\n",
      "LogisticRegression\n",
      "precision = 100.00%\n",
      "recall = 0.54%\n",
      "accuracy = 87.91%\n",
      "f1 = 1.08%\n",
      "\n",
      "\n"
     ]
    }
   ],
   "source": [
    "# Посчитать метрики стандартные\n",
    "# accuracy, precision, recall\n",
    "\n",
    "from sklearn.metrics import accuracy_score, precision_score, recall_score, f1_score\n",
    "\n",
    "def calculate_apr(prefix, predict, y_test):\n",
    "    print(prefix)\n",
    "    print('precision = {:.2%}'.format(precision_score(y_test, predict)))\n",
    "    print('recall = {:.2%}'.format(recall_score(y_test, predict)))\n",
    "    print('accuracy = {:.2%}'.format(accuracy_score(y_test, predict)))\n",
    "    print('f1 = {:.2%}'.format(f1_score(y_test, predict)))\n",
    "    print(\"\\n\")\n",
    "\n",
    "calculate_apr('DecisionTreeClassifier',dtc_predict, y_ts)\n",
    "calculate_apr('RandomForestClassifier',rfc_predict, y_ts)\n",
    "calculate_apr('LogisticRegression',lr_predict, y_ts)"
   ]
  },
  {
   "cell_type": "code",
   "execution_count": 916,
   "metadata": {
    "collapsed": true
   },
   "outputs": [],
   "source": [
    "# Визуалищировать эти метрики всех моделей на одном графике (чтоб визуально посмотреть)\n",
    "\n",
    "%matplotlib inline\n",
    "from matplotlib import pyplot as plt\n",
    "from sklearn.metrics import roc_auc_score, roc_curve, precision_recall_curve\n",
    "\n"
   ]
  },
  {
   "cell_type": "code",
   "execution_count": 917,
   "metadata": {},
   "outputs": [
    {
     "data": {
      "text/plain": [
       "(-0.01, 1.01)"
      ]
     },
     "execution_count": 917,
     "metadata": {},
     "output_type": "execute_result"
    },
    {
     "data": {
      "image/png": "[encoded data removed]",
      "text/plain": [
       "<matplotlib.figure.Figure at 0x23878208>"
      ]
     },
     "metadata": {},
     "output_type": "display_data"
    }
   ],
   "source": [
    "precision, recall, thresholds = precision_recall_curve( y_ts, dtc_predict)\n",
    "plt.plot(precision, recall)\n",
    "\n",
    "precision, recall, thresholds = precision_recall_curve( y_ts, rfc_predict)\n",
    "plt.plot(precision, recall)\n",
    "\n",
    "precision, recall, thresholds = precision_recall_curve( y_ts, lr_predict)\n",
    "plt.plot(precision, recall)\n",
    "\n",
    "plt.ylabel('recall')\n",
    "plt.xlabel('precision')\n",
    "plt.grid(True)\n",
    "plt.title('PR curve')\n",
    "plt.legend(['DTC','RFC','LR'])\n",
    "plt.xlim((-0.01, 1.01))\n",
    "plt.ylim((-0.01, 1.01))"
   ]
  },
  {
   "cell_type": "code",
   "execution_count": 918,
   "metadata": {
    "collapsed": true
   },
   "outputs": [
    {
     "data": {
      "text/plain": [
       "(-0.01, 1.01)"
      ]
     },
     "execution_count": 918,
     "metadata": {},
     "output_type": "execute_result"
    },
    {
     "data": {
      "image/png": "[encoded data removed]",
      "text/plain": [
       "<matplotlib.figure.Figure at 0x23878fd0>"
      ]
     },
     "metadata": {},
     "output_type": "display_data"
    }
   ],
   "source": [
    "# Потроить roc-кривые всех можелей на одном графике\n",
    "# Вывести roc_auc каждой моделе\n",
    "plt.figure(figsize=(5, 5))\n",
    "\n",
    "fpr, tpr, thresholds = roc_curve(y_ts, dtc_predict)\n",
    "plt.plot(fpr, tpr)\n",
    "\n",
    "fpr, tpr, thresholds = roc_curve(y_ts, rfc_predict)\n",
    "plt.plot(fpr, tpr)\n",
    "\n",
    "fpr, tpr, thresholds = roc_curve(y_ts, lr_predict)\n",
    "plt.plot(fpr, tpr)\n",
    "\n",
    "plt.plot([0, 1], [0, 1])\n",
    "plt.ylabel('tpr')\n",
    "plt.xlabel('fpr')\n",
    "plt.grid(True)\n",
    "plt.title('ROC curve')\n",
    "plt.legend(['DTC','RFC','LR'])\n",
    "plt.xlim((-0.01, 1.01))\n",
    "plt.ylim((-0.01, 1.01))"
   ]
  },
  {
   "cell_type": "code",
   "execution_count": 919,
   "metadata": {},
   "outputs": [
    {
     "name": "stdout",
     "output_type": "stream",
     "text": [
      "ROC_AUC: DTS=52.59%; RFC=50.12%; LR=50.27%\n"
     ]
    }
   ],
   "source": [
    "print('ROC_AUC: DTS={:.2%}; RFC={:.2%}; LR={:.2%}'.format(roc_auc_score(y_ts, dtc_predict),roc_auc_score(y_ts, rfc_predict),roc_auc_score(y_ts, lr_predict)))"
   ]
  },
  {
   "cell_type": "code",
   "execution_count": 920,
   "metadata": {
    "collapsed": true
   },
   "outputs": [
    {
     "name": "stdout",
     "output_type": "stream",
     "text": [
      "ROC_AUC.mean(): DTC=52.49%; RFC=63.00%; LR=67.92%\n",
      "Wall time: 11.6 s\n"
     ]
    }
   ],
   "source": [
    "%%time\n",
    "\n",
    "from sklearn.cross_validation import cross_val_score\n",
    "from sklearn.model_selection import StratifiedKFold\n",
    "# Сделать k-fold (10 фолдов) кросс-валидацию каждой модели\n",
    "# И посчитать средний roc_auc\n",
    "cv = StratifiedKFold(n_splits=10, shuffle=True, random_state=123)\n",
    "\n",
    "\n",
    "dtc_ra = cross_val_score(\n",
    "    DecisionTreeClassifier(random_state = 42),\n",
    "    X,\n",
    "    y,\n",
    "    scoring='roc_auc',\n",
    "    cv=cv.split(X, y)\n",
    ").mean()\n",
    "\n",
    "\n",
    "rfc_ra = cross_val_score(\n",
    "    RandomForestClassifier(n_estimators=100, random_state = 42),\n",
    "    X,\n",
    "    y,\n",
    "    scoring='roc_auc',\n",
    "    cv=cv.split(X, y)\n",
    ").mean()\n",
    "\n",
    "lr_ra = cross_val_score(\n",
    "    LogisticRegression(random_state = 42),\n",
    "    X,\n",
    "    y,\n",
    "    scoring='roc_auc',\n",
    "    cv=cv.split(X, y)\n",
    ").mean()\n",
    "\n",
    "print(\n",
    "    'ROC_AUC.mean(): DTC={:.2%}; RFC={:.2%}; LR={:.2%}'.format(\n",
    "        dtc_ra,rfc_ra,lr_ra\n",
    "    )\n",
    ")"
   ]
  },
  {
   "cell_type": "code",
   "execution_count": 921,
   "metadata": {},
   "outputs": [
    {
     "data": {
      "text/plain": [
       "array([0.66684824, 0.67364716, 0.69723895])"
      ]
     },
     "execution_count": 921,
     "metadata": {},
     "output_type": "execute_result"
    }
   ],
   "source": [
    "cross_val_score(\n",
    "    LogisticRegression(random_state = 42),\n",
    "    X,\n",
    "    y,\n",
    "    scoring='roc_auc',\n",
    "    cv=3\n",
    ")"
   ]
  },
  {
   "cell_type": "code",
   "execution_count": 922,
   "metadata": {
    "collapsed": true
   },
   "outputs": [
    {
     "name": "stdout",
     "output_type": "stream",
     "text": [
      "\n",
      "precision = 42.31%\n",
      "recall = 0.63%\n",
      "accuracy = 88.24%\n",
      "f1 = 1.24%\n",
      "\n",
      "\n"
     ]
    }
   ],
   "source": [
    "# Взять лучшую модель и сделать predict (с вероятностями (!!!)) для test выборки\n",
    "\n",
    "predict, predict_proba = run_black_box(\n",
    "    LogisticRegression(random_state = 42),\n",
    "    X, y, X_test\n",
    ")\n",
    "\n",
    "calculate_apr('',predict, y_test)"
   ]
  },
  {
   "cell_type": "code",
   "execution_count": 923,
   "metadata": {},
   "outputs": [
    {
     "data": {
      "text/plain": [
       "(-0.01, 1.01)"
      ]
     },
     "execution_count": 923,
     "metadata": {},
     "output_type": "execute_result"
    },
    {
     "data": {
      "image/png": "[encoded data removed]",
      "text/plain": [
       "<matplotlib.figure.Figure at 0x238197b8>"
      ]
     },
     "metadata": {},
     "output_type": "display_data"
    }
   ],
   "source": [
    "precision, recall, thresholds = precision_recall_curve( y_test, predict)\n",
    "plt.plot(precision, recall)\n",
    "plt.ylabel('recall')\n",
    "plt.xlabel('precision')\n",
    "plt.grid(True)\n",
    "plt.title('PR curve')\n",
    "plt.xlim((-0.01, 1.01))\n",
    "plt.ylim((-0.01, 1.01))"
   ]
  },
  {
   "cell_type": "code",
   "execution_count": 924,
   "metadata": {},
   "outputs": [
    {
     "data": {
      "text/plain": [
       "(-0.01, 1.01)"
      ]
     },
     "execution_count": 924,
     "metadata": {},
     "output_type": "execute_result"
    },
    {
     "data": {
      "image/png": "[encoded data removed]",
      "text/plain": [
       "<matplotlib.figure.Figure at 0x24eb7ef0>"
      ]
     },
     "metadata": {},
     "output_type": "display_data"
    }
   ],
   "source": [
    "fpr, tpr, thresholds = roc_curve(y_test, predict)\n",
    "plt.plot(fpr, tpr)\n",
    "plt.plot([0, 1], [0, 1])\n",
    "plt.ylabel('tpr')\n",
    "plt.xlabel('fpr')\n",
    "plt.grid(True)\n",
    "plt.title('ROC curve')\n",
    "plt.xlim((-0.01, 1.01))\n",
    "plt.ylim((-0.01, 1.01))"
   ]
  },
  {
   "cell_type": "code",
   "execution_count": 925,
   "metadata": {
    "collapsed": true
   },
   "outputs": [],
   "source": [
    "# Померить roc_auc на тесте"
   ]
  },
  {
   "cell_type": "code",
   "execution_count": 926,
   "metadata": {
    "collapsed": true
   },
   "outputs": [
    {
     "name": "stdout",
     "output_type": "stream",
     "text": [
      "ROC_AUC: LR=50.26%\n"
     ]
    }
   ],
   "source": [
    "print('ROC_AUC: LR={:.2%}'.format(roc_auc_score(y_test, predict)))"
   ]
  },
  {
   "cell_type": "code",
   "execution_count": null,
   "metadata": {},
   "outputs": [],
   "source": []
  }
 ],
 "metadata": {
  "anaconda-cloud": {},
  "kernelspec": {
   "display_name": "Python 3",
   "language": "python",
   "name": "python3"
  },
  "language_info": {
   "codemirror_mode": {
    "name": "ipython",
    "version": 3
   },
   "file_extension": ".py",
   "mimetype": "text/x-python",
   "name": "python",
   "nbconvert_exporter": "python",
   "pygments_lexer": "ipython3",
   "version": "3.6.4"
  },
  "toc": {
   "colors": {
    "hover_highlight": "#DAA520",
    "navigate_num": "#000000",
    "navigate_text": "#333333",
    "running_highlight": "#FF0000",
    "selected_highlight": "#FFD700",
    "sidebar_border": "#EEEEEE",
    "wrapper_background": "#FFFFFF"
   },
   "moveMenuLeft": true,
   "nav_menu": {
    "height": "31px",
    "width": "253px"
   },
   "navigate_menu": true,
   "number_sections": false,
   "sideBar": true,
   "threshold": 4,
   "toc_cell": false,
   "toc_section_display": "block",
   "toc_window_display": false,
   "widenNotebook": false
  }
 },
 "nbformat": 4,
 "nbformat_minor": 2
}
