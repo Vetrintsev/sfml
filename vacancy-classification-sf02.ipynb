{
 "cells": [
  {
   "cell_type": "markdown",
   "metadata": {},
   "source": [
    "# Vacancy Classification SF02\n",
    "Практикуем работу с текстами\n",
    "\n",
    "## Description\n",
    "Мы владельцы специфического Job-сайта и нам дали большой датасет вакансий. Одни вакансии нам интересны по своей тематике, другие не интересны (target 1 и 0 соответственно). Часть вакансий была размечена людскими ресурсами.\n",
    "\n",
    "Ваша задача обучить классификатор, который на основе размеченной выборки умеет определять интересные вакансии для нашего сайта.\n",
    "\n",
    "* Метрика качества __ROC_AUC__.\n",
    "* ИСПОЛЬЗОВАТЬ ВНЕШНИЕ ДАННЫЕ С JOB-сайтов = __ЗАПРЕЩЕНО__\n",
    "* ИСПОЛЬЗОВАТЬ другие ВНЕШНИЕ ДАННЫЕ = только с разрешения организатора (смотри Discussion)\n",
    "* Результат засчитывается только при наличие кода, который этот результат повторяет\n",
    "* Участие индивидуальное\n",
    "\n",
    "### Описание данных\n",
    "__train.csv__ - данные для обучения<br>\n",
    "__test.csv__ - данные для подготовки самбита и проверки<br>\n",
    " __sampleSubmission.csv__ - пример корректного но бесполезного сабмита<br>\n",
    " __other.csv__ - необязательные данные для доп.статистик и прочих извращений (например обучение word2vec-а)\n",
    "### Описание полей\n",
    "__id__ - внутренний идетификатор<br>\n",
    "__name__ - название вакансии<br>\n",
    "__description__ - текст вакансии<br>\n",
    "__target__ - класс заинтересованности"
   ]
  },
  {
   "cell_type": "code",
   "execution_count": 1,
   "metadata": {},
   "outputs": [
    {
     "name": "stderr",
     "output_type": "stream",
     "text": [
      "C:\\ProgramData\\Anaconda3\\lib\\site-packages\\gensim\\utils.py:1197: UserWarning: detected Windows; aliasing chunkize to chunkize_serial\n",
      "  warnings.warn(\"detected Windows; aliasing chunkize to chunkize_serial\")\n"
     ]
    }
   ],
   "source": [
    "import re # Регулярные выражения.\n",
    "from bs4 import BeautifulSoup # Превращалка html в текст.\n",
    "import pymorphy2 # Морфологический анализатор.\n",
    "import pandas as pd\n",
    "from collections import Counter # Не считать же частоты самим.\n",
    "from sklearn.feature_extraction.text import CountVectorizer, TfidfTransformer\n",
    "from gensim.models.word2vec import Word2Vec # Собственно модель.\n",
    "from gensim.models.word2vec import LineSentence # Выравнивание текста по предложениям.\n",
    "from gensim.models import KeyedVectors # Семантические вектора.\n",
    "# На самом деле, нам потребуется только последняя.\n",
    "import numpy as np # Вектора.\n",
    "import csv, os"
   ]
  },
  {
   "cell_type": "code",
   "execution_count": 2,
   "metadata": {},
   "outputs": [],
   "source": [
    "pos_conv = {'ADJF':'_ADJF','NOUN':'_NOUN','VERB':'_VERB'}\n",
    "html_containers = ['p','li','h1','h2','h3','h4','h5','h6', 'td', 'caption', 'td', 'th', 'title']\n",
    "cache_keys = ['name', 'description', 'sentences', 'id', 'target']\n",
    "morph = pymorphy2.MorphAnalyzer()"
   ]
  },
  {
   "cell_type": "code",
   "execution_count": 3,
   "metadata": {},
   "outputs": [],
   "source": [
    "Use_Data_Cache = True\n",
    "Cache_Path_Prefix = 'cache\\cache.'"
   ]
  },
  {
   "cell_type": "markdown",
   "metadata": {},
   "source": [
    "### Красивый прогресс бар с оценкой времени"
   ]
  },
  {
   "cell_type": "code",
   "execution_count": 4,
   "metadata": {},
   "outputs": [],
   "source": [
    "from ipywidgets import IntProgress, HTML, VBox\n",
    "from IPython.display import display\n",
    "from datetime import timedelta, datetime\n",
    "\n",
    "def log_progress(sequence, every=None, size=None, name='Items'):    \n",
    "\n",
    "    is_iterator = False\n",
    "    if size is None:\n",
    "        try:\n",
    "            size = len(sequence)\n",
    "        except TypeError:\n",
    "            is_iterator = True\n",
    "    if size is not None:\n",
    "        if every is None:\n",
    "            if size <= 200:\n",
    "                every = 1\n",
    "            else:\n",
    "                every = int(size / 200)     # every 0.5%\n",
    "    else:\n",
    "        assert every is not None, 'sequence is iterator, set every'\n",
    "\n",
    "    if is_iterator:\n",
    "        progress = IntProgress(min=0, max=1, value=1)\n",
    "        progress.bar_style = 'info'\n",
    "    else:\n",
    "        progress = IntProgress(min=0, max=size, value=0)\n",
    "    label = HTML()\n",
    "    box = VBox(children=[label, progress])\n",
    "    display(box)\n",
    "    \n",
    "    timestarts = datetime.now()\n",
    "    \n",
    "    index = 0\n",
    "    try:\n",
    "        for index, record in enumerate(sequence, 1):\n",
    "            if index == 1 or index % every == 0:\n",
    "                if is_iterator:\n",
    "                    label.value = '{name}: {index} / ?'.format(\n",
    "                        name=name,\n",
    "                        index=index\n",
    "                    )\n",
    "                else:\n",
    "                    progress.value = index\n",
    "                    label.value = u'{name}: {index} / {size} red line at {tmto}'.format(\n",
    "                        name=name,\n",
    "                        index=index,\n",
    "                        size=size,\n",
    "                        tmto=(timestarts+(datetime.now()-timestarts)/index*size).strftime('%d %H:%M')\n",
    "                    )\n",
    "            yield record\n",
    "    except:\n",
    "        progress.bar_style = 'danger'\n",
    "        raise\n",
    "    else:\n",
    "        progress.bar_style = 'success'\n",
    "        progress.value = index\n",
    "        label.value = \"{name}: {index}\".format(\n",
    "            name=name,\n",
    "            index=str(index or '?')\n",
    "        )"
   ]
  },
  {
   "cell_type": "markdown",
   "metadata": {},
   "source": [
    "### Немного итераторов оберток для чтения текстов\n",
    "и экономии памяти, и кеширования для ускорения повторов"
   ]
  },
  {
   "cell_type": "code",
   "execution_count": 10,
   "metadata": {},
   "outputs": [],
   "source": [
    "\n",
    "class Base_Iterator:\n",
    "    \n",
    "    @classmethod\n",
    "    def yield_true(self):\n",
    "        while True:\n",
    "            yield True\n",
    "    \n",
    "    def is_selected(self):\n",
    "        return self.selected.__next__()\n",
    "    \n",
    "    def next(self):\n",
    "        return self.__next__()  \n",
    "    \n",
    "    def __go_to(self, index):\n",
    "        self._iter_lite()\n",
    "        while index > 0:\n",
    "            self.__next__(True)\n",
    "            if self.is_selected(): index -= 1\n",
    "    \n",
    "    def __get_single_item(self, index):\n",
    "        try:\n",
    "            self.__go_to(index)\n",
    "            item =  self.__next__()\n",
    "            self._iter__stop()\n",
    "            return item\n",
    "        except StopIteration:\n",
    "            raise IndexError\n",
    "    \n",
    "    def __skip_items(self, count):\n",
    "        while count > 0:\n",
    "            self.__next__(True)\n",
    "            if self.is_selected(): count -= 1\n",
    "    \n",
    "    def __slice_items(self, slicer):\n",
    "        \n",
    "        i = 0 if (slicer.start is None) else slicer.start\n",
    "        stop = 0 if (slicer.stop is None) else slicer.stop\n",
    "        step = 1 if (slicer.step is None) else slicer.step\n",
    "        skip = step-1\n",
    "        items = []\n",
    "        \n",
    "        try:\n",
    "            self.__go_to(i)\n",
    "            while i < stop:\n",
    "                if self.is_selected(): \n",
    "                    items.append(self.__next__())\n",
    "                    i += step\n",
    "                    if skip > 0: \n",
    "                        self.__skip_items(skip)\n",
    "            \n",
    "            self._iter__stop()\n",
    "            \n",
    "        except StopIteration:\n",
    "            pass\n",
    "        \n",
    "        return items\n",
    "    \n",
    "    def __getitem__(self, key):\n",
    "        if isinstance(key, int):\n",
    "            return self.__get_single_item(key)\n",
    "        if isinstance(key, slice):\n",
    "            return self.__slice_items(key)\n",
    "        else:\n",
    "            raise IndexError\n",
    "    \n",
    "    def _iter_lite(self):\n",
    "        return self.__iter__()\n",
    "    \n",
    "    def _iter__stop(self):\n",
    "        pass\n",
    "    \n",
    "class Cross_Iterator(Base_Iterator):\n",
    "    \n",
    "    def __init__(self, iterators, func, callback=None, filters=None):\n",
    "        self.iterator_maker = iterators if isinstance(iterators, list) else [iterators]\n",
    "        self.func = func if callable(func) else func[0]\n",
    "        self.func_args = [] if callable(func) else func[1:]\n",
    "        self.callback = callback if (callable(callback) or (callback is None)) else callback[0]\n",
    "        self.callback_args = [] if (callable(callback) or (callback is None)) else callback[1:]\n",
    "        self.filters = filters \n",
    "\n",
    "    def __iter__(self):\n",
    "        self.iterators = [\n",
    "            (iterator().__iter__() if callable(iterator) else iterator.__iter__()) \n",
    "            for iterator in self.iterator_maker\n",
    "        ]\n",
    "        self.selected = self.filters.__iter__() if (self.filters is not None) else self.yield_true().__iter__()\n",
    "        return self\n",
    "        \n",
    "    def __next__(self, skip=False):\n",
    "        while True:\n",
    "            try:\n",
    "                if skip: \n",
    "                    for iterator in self.iterators: iterator.__next__(True)\n",
    "                    return None\n",
    "                \n",
    "                else:\n",
    "                    item = [iterator.__next__() for iterator in self.iterators]\n",
    "                    item = self.func(*item, *self.func_args) if self.is_selected() else None\n",
    "                \n",
    "            except StopIteration:\n",
    "                if self.callback is not None: self.callback(*self.callback_args)\n",
    "                raise StopIteration()\n",
    "                break\n",
    "                \n",
    "            else:\n",
    "                if item is not None:\n",
    "                    return item\n",
    "    \n",
    "class File_Iterator(Base_Iterator):\n",
    "    \n",
    "    def __init__(self, path, func, skip_first=False, callback=None, filters=None):\n",
    "        self.path = path\n",
    "        self.func = func if callable(func) else func[0]\n",
    "        self.func_args = [] if callable(func) else func[1:]\n",
    "        self.skip_first = skip_first\n",
    "        self.callback = callback if (callable(callback) or (callback is None)) else callback[0]\n",
    "        self.callback_args = [] if (callable(callback) or (callback is None)) else callback[1:]\n",
    "        self.filters = filters \n",
    "        self.reader_file = None\n",
    "    \n",
    "    def __iter__(self):\n",
    "        \n",
    "        self._iter__stop()\n",
    "        \n",
    "        self.skip = self.skip_first\n",
    "        self.size = sum(1 for line in open(file=self.path, mode='r', encoding='utf-8'))\n",
    "        self.reader_file = open(file=self.path, mode='r', encoding='utf-8')\n",
    "        \n",
    "        self.iterator = log_progress(\n",
    "            self.make_iterator(),\n",
    "            size=self.size,\n",
    "            name='read file {}'.format(self.path)\n",
    "        )\n",
    "        \n",
    "        self.selected = self.filters.__iter__() if (self.filters is not None) else self.yield_true().__iter__()\n",
    "        \n",
    "        return self\n",
    "    \n",
    "    def _iter_lite(self):\n",
    "        \n",
    "        self._iter__stop()\n",
    "        \n",
    "        self.skip = self.skip_first\n",
    "        self.reader_file = open(file=self.path, mode='r', encoding='utf-8')\n",
    "        \n",
    "        self.iterator = self.make_iterator()\n",
    "        \n",
    "        self.selected = self.filters.__iter__() if (self.filters is not None) else self.yield_true().__iter__()\n",
    "        \n",
    "        return self\n",
    "    \n",
    "    def make_iterator(self):\n",
    "        return self.reader_file,\n",
    "    \n",
    "    def __next__(self, skip=False):\n",
    "        \n",
    "        if self.skip:\n",
    "            self.skip = False\n",
    "            self.iterator.__next__()\n",
    "            \n",
    "        while True:\n",
    "            try:\n",
    "                if skip: \n",
    "                    self.iterator.__next__()\n",
    "                    return None\n",
    "                \n",
    "                else: \n",
    "                    item = self.iterator.__next__()\n",
    "                    item = self.func(item, *self.func_args) if self.is_selected() else None\n",
    "                \n",
    "            except StopIteration:\n",
    "                self._iter__stop()\n",
    "                raise StopIteration()\n",
    "                break\n",
    "                \n",
    "            else:\n",
    "                if item is not None:\n",
    "                    return item\n",
    "    \n",
    "    def _iter__stop(self):\n",
    "        if self.reader_file is not None: self.reader_file.close()\n",
    "        if self.callback is not None: self.callback(*self.callback_args)\n",
    "    \n",
    "class CSV_Iterator(File_Iterator):\n",
    "    \n",
    "    def make_iterator(self):\n",
    "        return csv.reader(self.reader_file, delimiter='\\t')\n",
    "\n",
    "class Unpack_Iterators(Base_Iterator):\n",
    "    \n",
    "    def __init__(self, iterators):\n",
    "        self.iterators = iterators\n",
    "        self.iterator = None\n",
    "    \n",
    "    def __iter__(self):\n",
    "        self.selected = self.yield_true().__iter__()\n",
    "        self.super_iterator = self.iterators.__iter__()\n",
    "        return self\n",
    "        \n",
    "    def __next__(self):\n",
    "        \n",
    "        if self.iterator is None: \n",
    "            self._unpack_iterator(self.super_iterator.__next__())\n",
    "            \n",
    "        while True:\n",
    "            try:\n",
    "                item = self.iterator.__next__()\n",
    "\n",
    "            except StopIteration:\n",
    "                self._unpack_iterator(self.super_iterator.__next__())\n",
    "\n",
    "            else:\n",
    "                return item\n",
    "    \n",
    "    def _unpack_iterator(self, iterator):\n",
    "        self.iterator = iterator().__iter__() if callable(iterator) else iterator.__iter__()\n",
    "    \n",
    "    def next(self):\n",
    "        return self.__next__()  \n",
    "\n",
    "class Vacancies_Iterator:\n",
    "    \n",
    "    russian_language_threashold = 0.4\n",
    "    \n",
    "    def __init__(self, path, headers=None, filters=None):\n",
    "        self.path = path\n",
    "        self.headers = headers if (headers is not None) else self.read_headers()\n",
    "        self._cache_files = {}\n",
    "        self.filters = filters\n",
    "    \n",
    "    def __getitem__(self, key):\n",
    "        if isinstance(key, str): #перебираем по ключу\n",
    "            keys = {\n",
    "                'sentences':self.sentences,\n",
    "                'is_russian':self.is_russian_language,\n",
    "                'texts':self.texts\n",
    "            }\n",
    "            if key in keys.keys():\n",
    "                return keys[key]()\n",
    "            else:\n",
    "                return self._items(key)\n",
    "        if isinstance(key, list) and isinstance(key[0], bool): #фильтруем вакансии по булевым\n",
    "            if self.filters is not None:\n",
    "                key = [x and self.filters[idx] for idx, x in enumerate(key)]\n",
    "            return Vacancies_Iterator(path=self.path, headers=self.headers, filters=key)\n",
    "        else:\n",
    "            raise KeyError\n",
    "    \n",
    "    \n",
    "    def read_headers(self):\n",
    "        file_reader = open(file=self.path, mode='r', encoding='utf-8')\n",
    "        csv_reader = csv.reader(file_reader, delimiter='\\t')\n",
    "        headers = csv_reader.__iter__().__next__()\n",
    "        del csv_reader\n",
    "        file_reader.close()\n",
    "        return headers\n",
    "        \n",
    "    def parse_line(self, line):\n",
    "        items = {}\n",
    "        for idx, item in enumerate(line):\n",
    "            items[self.headers[idx]] = item\n",
    "        return items\n",
    "    \n",
    "    def _cache_path(self, attribute):\n",
    "        return '{prefix}{path}.{attr}.txt'.format(\n",
    "            prefix=Cache_Path_Prefix,\n",
    "            path=self.path,\n",
    "            attr=attribute\n",
    "        )\n",
    "    \n",
    "    def _cache_make_writer(self, attribute):\n",
    "        if not os.path.isdir('cache'): os.mkdir('cache')\n",
    "        self._cache_files[attribute] = [open(self._cache_path(attribute), 'w', encoding='utf-8'), False]\n",
    "    \n",
    "    def _cache_write(self, attribute, line):\n",
    "        if self._cache_files[attribute][1]: \n",
    "            line = '\\n' + line\n",
    "        else:\n",
    "            self._cache_files[attribute][1] = True\n",
    "        self._cache_files[attribute][0].write(line)\n",
    "        \n",
    "    def _cache_close_writer(self, attribute):\n",
    "        self._cache_files[attribute][0].close()\n",
    "        del self._cache_files[attribute]\n",
    "    \n",
    "    def _cache_make_writer_and_get_closer(self, attribute):\n",
    "        if self._cache_can_write():\n",
    "            self._cache_make_writer(attribute)\n",
    "            return self._cache_close_writer, attribute\n",
    "    \n",
    "    def _cache_check(self, attribute):\n",
    "        return Use_Data_Cache and os.path.isfile(self._cache_path(attribute))\n",
    "    \n",
    "    def _cache_can_write(self):\n",
    "        return Use_Data_Cache and (self.filters is None)\n",
    "    \n",
    "    def vacancies(self):\n",
    "        return CSV_Iterator(self.path, self._iter_vacancies, True, filters = self.filters)\n",
    "    \n",
    "    def _iter_vacancies(self, line):\n",
    "        return self.parse_line(line)\n",
    "    \n",
    "    def _items(self, key):\n",
    "        return Cross_Iterator(self.vacancies, (self._iter_items, key))\n",
    "    \n",
    "    def _iter_items(self, vacancy, key):\n",
    "        return vacancy[key]\n",
    "    \n",
    "    def sentences(self, update_cache=False, keep_words=None):\n",
    "        attribute = 'sentences'\n",
    "        if not isinstance(update_cache, bool): raise Exception\n",
    "        if (keep_words is not None) and (not isinstance(keep_words, set)): keep_words = set(keep_words)\n",
    "        if (not update_cache) and self._cache_check(attribute):\n",
    "            return CSV_Iterator(\n",
    "                self._cache_path(attribute), \n",
    "                (self._iter_sentences_from_cache, keep_words), \n",
    "                filters=self.filters\n",
    "            )\n",
    "            \n",
    "        else:\n",
    "            return Cross_Iterator(\n",
    "                self.vacancies, \n",
    "                (self._iter_sentences_from_vacancies, keep_words),\n",
    "                callback = self._cache_make_writer_and_get_closer(attribute)\n",
    "            )\n",
    "    \n",
    "    def _iter_sentences_from_cache(self, line, keep_words):\n",
    "        if len(line)>0:\n",
    "            return [\n",
    "                sentence.split(' ') if keep_words is None else [w for w in sentence.split(' ') if w in keep_words]\n",
    "                for sentence in line[0].split('|')\n",
    "            ]\n",
    "        return []\n",
    "    \n",
    "    def _iter_sentences_from_vacancies(self, vacancy, keep_words):\n",
    "        content = self._sentences_from_vacancy(vacancy['name'], vacancy['description'], keep_words)\n",
    "        if Use_Data_Cache:\n",
    "            self._cache_write(\n",
    "                'sentences', \n",
    "                '|'.join([' '.join(s) for s in content])\n",
    "            )\n",
    "        \n",
    "        return content\n",
    "\n",
    "    def _sentences_from_vacancy(self, name, description, keep_words):\n",
    "        return [self._sentence_to_normalized_words(name, keep_words)] + list([ s for s in [\n",
    "            self._sentence_to_normalized_words(y, keep_words) for y in\n",
    "            map(lambda x: x.get_text().strip(), BeautifulSoup(description , 'lxml').find_all(name=html_containers))\n",
    "            if len(y) > 0\n",
    "        ] if len(s)>0])\n",
    "    \n",
    "    def _sentence_to_normalized_words(self, sentence, keep_words):\n",
    "        words=[a[0] for a in re.findall(\"([A-Za-zА-ЯЁа-яё]+(-[A-Za-zА-ЯЁа-яё]+)*)\", sentence)]\n",
    "        reswords=[]\n",
    "        \n",
    "        poss = pos_conv.keys()\n",
    "        \n",
    "        for w in words:\n",
    "            wordform = morph.parse(w)[0]\n",
    "            try:\n",
    "                if (wordform.tag.POS in poss):\n",
    "                    word = wordform.normal_form + pos_conv[wordform.tag.POS]\n",
    "                elif wordform.tag.POS is None:\n",
    "                    word = wordform.normal_form\n",
    "                if (keep_words is None) or (word in keep_words):\n",
    "                    reswords.append(word)\n",
    "            except:\n",
    "                pass\n",
    "        \n",
    "        return reswords\n",
    "    \n",
    "    def texts(self):\n",
    "        return Cross_Iterator(\n",
    "            self.sentences,\n",
    "            self._iter_texts\n",
    "        )\n",
    "\n",
    "    def _iter_texts(self, sentences):\n",
    "        return ' '.join([' '.join(sentence) for sentence in sentences])\n",
    "    \n",
    "    def is_russian_language(self, update_cache=False):\n",
    "        attribute = 'is_russian'\n",
    "        if not isinstance(update_cache, bool): raise Exception\n",
    "        if (not update_cache) and self._cache_check(attribute):\n",
    "            return CSV_Iterator(\n",
    "                self._cache_path(attribute), \n",
    "                self._iter_language_from_cache, \n",
    "                filters=self.filters\n",
    "            )\n",
    "            \n",
    "        else:\n",
    "            return Cross_Iterator(\n",
    "                self.texts, \n",
    "                self._iter_is_russian_language_from_sentences,\n",
    "                callback = self._cache_make_writer_and_get_closer(attribute)\n",
    "            )\n",
    "    \n",
    "    def _iter_language_from_cache(self, line):\n",
    "        return int(line[0]) == 1\n",
    "    \n",
    "    def _iter_is_russian_language_from_sentences(self, text):\n",
    "        letters = text.replace('_NOUN','').replace('_ADJF','').replace('_VERB','').replace(' ','').replace('-','')\n",
    "        is_rus = 0 if len(letters) == 0 else (sum([\n",
    "            x[1] for x in list(filter(\n",
    "                lambda el: ('а' <= el[0] <= 'я') or (el[0] == 'ё'),\n",
    "                Counter(letters).items()\n",
    "            ))\n",
    "        ]) / len(letters)) > self.russian_language_threashold\n",
    "        \n",
    "        if Use_Data_Cache:\n",
    "            self._cache_write(\n",
    "                'is_russian',\n",
    "                '1' if is_rus else '0'\n",
    "            )\n",
    "        \n",
    "        return is_rus\n",
    "    \n",
    "    def split_by_language(self):\n",
    "        is_rus = list(self.is_russian_language())\n",
    "        return self[is_rus], self[[not x for x in is_rus]]\n",
    "    \n",
    "    def semantics(self, w2v_model=None, update_cache=False):\n",
    "        attribute = 'semantics'\n",
    "        if not isinstance(update_cache, bool): raise Exception\n",
    "        if (not update_cache) and self._cache_check(attribute):\n",
    "            return CSV_Iterator(\n",
    "                self._cache_path(attribute), \n",
    "                self._iter_semantics_from_cache, \n",
    "                filters=self.filters\n",
    "            )\n",
    "            \n",
    "        else:\n",
    "            return Cross_Iterator(\n",
    "                [self['id'],  self.sentences], \n",
    "                (self._iter_semantics_from_texts, w2v_model),\n",
    "                callback = self._cache_make_writer_and_get_closer(attribute)\n",
    "            )\n",
    "        \n",
    "    def _iter_semantics_from_cache(self, line):\n",
    "        return [int(line[0]), [float(x) for x in line[1:]]]\n",
    "    \n",
    "    def _iter_semantics_from_texts(self, idv, sentences, w2v_model):\n",
    "        \n",
    "        semantics = self.text_to_vec(sentences, w2v_model)\n",
    "        \n",
    "        if Use_Data_Cache:\n",
    "            self._cache_write(\n",
    "                'semantics',\n",
    "                '\\t'.join([ idv, '\\t'.join([str(s) for s in semantics]) ])\n",
    "            )\n",
    "        \n",
    "        return [int(idv), semantics]\n",
    "    \n",
    "    def text_to_vec(self, sentences, model):\n",
    "        text_vec = np.zeros((model.vector_size,), dtype=\"float32\")\n",
    "        n_words = 0\n",
    "        dct = Counter(Unpack_Iterators(sentences))\n",
    "        index2word_set = set(model.wv.index2word)\n",
    "        for word, count in dct.items():\n",
    "            if word in index2word_set:\n",
    "                n_words = n_words + count\n",
    "                text_vec = np.add(text_vec, model[word] * count) \n",
    "\n",
    "        if n_words != 0:\n",
    "            text_vec /= n_words\n",
    "        return text_vec"
   ]
  },
  {
   "cell_type": "code",
   "execution_count": 6,
   "metadata": {},
   "outputs": [],
   "source": [
    "# использовал для предварительного кэширования с целью последующего ускорения, \n",
    "# для целей восттановления эксперимента - не обязательно\n",
    "\n",
    "def cache_update(files, attributes):\n",
    "    if Use_Data_Cache:\n",
    "        if not isinstance(files, list): files = [files]\n",
    "        if not isinstance(attributes, list): attributes = [attributes]\n",
    "            \n",
    "        for file in files:\n",
    "            vi = Vacancies_Iterator(file)\n",
    "            \n",
    "            for attribute in attributes:\n",
    "                if not vi._cache_check(attribute):\n",
    "                    for item in vi[attribute]:\n",
    "                        pass # перебираем все элементы для автоматического кэширования\n",
    "\n",
    "cache_update(['test.csv', 'train.csv', 'other.csv'], ['sentences', 'is_russian'])"
   ]
  },
  {
   "cell_type": "code",
   "execution_count": 11,
   "metadata": {},
   "outputs": [],
   "source": [
    "test = Vacancies_Iterator('test.csv')\n",
    "train = Vacancies_Iterator('train.csv')\n",
    "other = Vacancies_Iterator('other.csv')"
   ]
  },
  {
   "cell_type": "code",
   "execution_count": 7,
   "metadata": {},
   "outputs": [],
   "source": [
    "# tf-idf фильтрация слов в текстах"
   ]
  },
  {
   "cell_type": "code",
   "execution_count": 7,
   "metadata": {},
   "outputs": [
    {
     "data": {
      "application/vnd.jupyter.widget-view+json": {
       "model_id": "f2ac376bb92a4ae4bbcfc2d58a76078d",
       "version_major": 2,
       "version_minor": 0
      },
      "text/html": [
       "<p>Failed to display Jupyter Widget of type <code>VBox</code>.</p>\n",
       "<p>\n",
       "  If you're reading this message in the Jupyter Notebook or JupyterLab Notebook, it may mean\n",
       "  that the widgets JavaScript is still loading. If this message persists, it\n",
       "  likely means that the widgets JavaScript library is either not installed or\n",
       "  not enabled. See the <a href=\"https://ipywidgets.readthedocs.io/en/stable/user_install.html\">Jupyter\n",
       "  Widgets Documentation</a> for setup instructions.\n",
       "</p>\n",
       "<p>\n",
       "  If you're reading this message in another frontend (for example, a static\n",
       "  rendering on GitHub or <a href=\"https://nbviewer.jupyter.org/\">NBViewer</a>),\n",
       "  it may mean that your frontend doesn't currently support widgets.\n",
       "</p>\n"
      ],
      "text/plain": [
       "VBox(children=(HTML(value=''), IntProgress(value=0, max=170179)))"
      ]
     },
     "metadata": {},
     "output_type": "display_data"
    },
    {
     "data": {
      "application/vnd.jupyter.widget-view+json": {
       "model_id": "a86db86437144426921bc286de2e9095",
       "version_major": 2,
       "version_minor": 0
      },
      "text/html": [
       "<p>Failed to display Jupyter Widget of type <code>VBox</code>.</p>\n",
       "<p>\n",
       "  If you're reading this message in the Jupyter Notebook or JupyterLab Notebook, it may mean\n",
       "  that the widgets JavaScript is still loading. If this message persists, it\n",
       "  likely means that the widgets JavaScript library is either not installed or\n",
       "  not enabled. See the <a href=\"https://ipywidgets.readthedocs.io/en/stable/user_install.html\">Jupyter\n",
       "  Widgets Documentation</a> for setup instructions.\n",
       "</p>\n",
       "<p>\n",
       "  If you're reading this message in another frontend (for example, a static\n",
       "  rendering on GitHub or <a href=\"https://nbviewer.jupyter.org/\">NBViewer</a>),\n",
       "  it may mean that your frontend doesn't currently support widgets.\n",
       "</p>\n"
      ],
      "text/plain": [
       "VBox(children=(HTML(value=''), IntProgress(value=0, max=200000)))"
      ]
     },
     "metadata": {},
     "output_type": "display_data"
    },
    {
     "data": {
      "application/vnd.jupyter.widget-view+json": {
       "model_id": "c97d05f630834597978a0ab306571a4b",
       "version_major": 2,
       "version_minor": 0
      },
      "text/html": [
       "<p>Failed to display Jupyter Widget of type <code>VBox</code>.</p>\n",
       "<p>\n",
       "  If you're reading this message in the Jupyter Notebook or JupyterLab Notebook, it may mean\n",
       "  that the widgets JavaScript is still loading. If this message persists, it\n",
       "  likely means that the widgets JavaScript library is either not installed or\n",
       "  not enabled. See the <a href=\"https://ipywidgets.readthedocs.io/en/stable/user_install.html\">Jupyter\n",
       "  Widgets Documentation</a> for setup instructions.\n",
       "</p>\n",
       "<p>\n",
       "  If you're reading this message in another frontend (for example, a static\n",
       "  rendering on GitHub or <a href=\"https://nbviewer.jupyter.org/\">NBViewer</a>),\n",
       "  it may mean that your frontend doesn't currently support widgets.\n",
       "</p>\n"
      ],
      "text/plain": [
       "VBox(children=(HTML(value=''), IntProgress(value=0, max=594534)))"
      ]
     },
     "metadata": {},
     "output_type": "display_data"
    }
   ],
   "source": [
    "test_rus, test_eng = test.split_by_language()\n",
    "train_rus, train_eng = train.split_by_language()\n",
    "other_rus, other_eng = other.split_by_language()"
   ]
  },
  {
   "cell_type": "code",
   "execution_count": 33,
   "metadata": {},
   "outputs": [],
   "source": [
    "def get_count_vectorizer(texts, min_df):\n",
    "    count_vect = CountVectorizer(lowercase=False, min_df=min_df)\n",
    "    return count_vect.fit_transform(texts), [x[0] for x in sorted(count_vect.vocabulary_.items(), key=lambda x: x[1])]\n",
    "\n",
    "def get_idf(texts, min_df):\n",
    "    vectors, words = get_count_vectorizer(texts, min_df)\n",
    "    tfidf_transformer = TfidfTransformer(norm=None, smooth_idf=True)\n",
    "    tfidf_transformer.fit_transform(vectors)\n",
    "    return tfidf_transformer.idf_, words"
   ]
  },
  {
   "cell_type": "code",
   "execution_count": 34,
   "metadata": {
    "scrolled": false
   },
   "outputs": [
    {
     "data": {
      "application/vnd.jupyter.widget-view+json": {
       "model_id": "3ecae16180a241abb6cb5b976fc10589",
       "version_major": 2,
       "version_minor": 0
      },
      "text/html": [
       "<p>Failed to display Jupyter Widget of type <code>VBox</code>.</p>\n",
       "<p>\n",
       "  If you're reading this message in the Jupyter Notebook or JupyterLab Notebook, it may mean\n",
       "  that the widgets JavaScript is still loading. If this message persists, it\n",
       "  likely means that the widgets JavaScript library is either not installed or\n",
       "  not enabled. See the <a href=\"https://ipywidgets.readthedocs.io/en/stable/user_install.html\">Jupyter\n",
       "  Widgets Documentation</a> for setup instructions.\n",
       "</p>\n",
       "<p>\n",
       "  If you're reading this message in another frontend (for example, a static\n",
       "  rendering on GitHub or <a href=\"https://nbviewer.jupyter.org/\">NBViewer</a>),\n",
       "  it may mean that your frontend doesn't currently support widgets.\n",
       "</p>\n"
      ],
      "text/plain": [
       "VBox(children=(HTML(value=''), IntProgress(value=0, max=170179)))"
      ]
     },
     "metadata": {},
     "output_type": "display_data"
    },
    {
     "data": {
      "application/vnd.jupyter.widget-view+json": {
       "model_id": "da6c19e0100248c8ab5003cc1eaf9472",
       "version_major": 2,
       "version_minor": 0
      },
      "text/html": [
       "<p>Failed to display Jupyter Widget of type <code>VBox</code>.</p>\n",
       "<p>\n",
       "  If you're reading this message in the Jupyter Notebook or JupyterLab Notebook, it may mean\n",
       "  that the widgets JavaScript is still loading. If this message persists, it\n",
       "  likely means that the widgets JavaScript library is either not installed or\n",
       "  not enabled. See the <a href=\"https://ipywidgets.readthedocs.io/en/stable/user_install.html\">Jupyter\n",
       "  Widgets Documentation</a> for setup instructions.\n",
       "</p>\n",
       "<p>\n",
       "  If you're reading this message in another frontend (for example, a static\n",
       "  rendering on GitHub or <a href=\"https://nbviewer.jupyter.org/\">NBViewer</a>),\n",
       "  it may mean that your frontend doesn't currently support widgets.\n",
       "</p>\n"
      ],
      "text/plain": [
       "VBox(children=(HTML(value=''), IntProgress(value=0, max=200000)))"
      ]
     },
     "metadata": {},
     "output_type": "display_data"
    },
    {
     "data": {
      "application/vnd.jupyter.widget-view+json": {
       "model_id": "0b90db8f12c24005867e8d69d398398d",
       "version_major": 2,
       "version_minor": 0
      },
      "text/html": [
       "<p>Failed to display Jupyter Widget of type <code>VBox</code>.</p>\n",
       "<p>\n",
       "  If you're reading this message in the Jupyter Notebook or JupyterLab Notebook, it may mean\n",
       "  that the widgets JavaScript is still loading. If this message persists, it\n",
       "  likely means that the widgets JavaScript library is either not installed or\n",
       "  not enabled. See the <a href=\"https://ipywidgets.readthedocs.io/en/stable/user_install.html\">Jupyter\n",
       "  Widgets Documentation</a> for setup instructions.\n",
       "</p>\n",
       "<p>\n",
       "  If you're reading this message in another frontend (for example, a static\n",
       "  rendering on GitHub or <a href=\"https://nbviewer.jupyter.org/\">NBViewer</a>),\n",
       "  it may mean that your frontend doesn't currently support widgets.\n",
       "</p>\n"
      ],
      "text/plain": [
       "VBox(children=(HTML(value=''), IntProgress(value=0, max=594534)))"
      ]
     },
     "metadata": {},
     "output_type": "display_data"
    },
    {
     "data": {
      "application/vnd.jupyter.widget-view+json": {
       "model_id": "9039f105dae345b9af0c37a8edb6c568",
       "version_major": 2,
       "version_minor": 0
      },
      "text/html": [
       "<p>Failed to display Jupyter Widget of type <code>VBox</code>.</p>\n",
       "<p>\n",
       "  If you're reading this message in the Jupyter Notebook or JupyterLab Notebook, it may mean\n",
       "  that the widgets JavaScript is still loading. If this message persists, it\n",
       "  likely means that the widgets JavaScript library is either not installed or\n",
       "  not enabled. See the <a href=\"https://ipywidgets.readthedocs.io/en/stable/user_install.html\">Jupyter\n",
       "  Widgets Documentation</a> for setup instructions.\n",
       "</p>\n",
       "<p>\n",
       "  If you're reading this message in another frontend (for example, a static\n",
       "  rendering on GitHub or <a href=\"https://nbviewer.jupyter.org/\">NBViewer</a>),\n",
       "  it may mean that your frontend doesn't currently support widgets.\n",
       "</p>\n"
      ],
      "text/plain": [
       "VBox(children=(HTML(value=''), IntProgress(value=0, max=170179)))"
      ]
     },
     "metadata": {},
     "output_type": "display_data"
    },
    {
     "data": {
      "application/vnd.jupyter.widget-view+json": {
       "model_id": "01490c553c754ea4b5fc6572817bab31",
       "version_major": 2,
       "version_minor": 0
      },
      "text/html": [
       "<p>Failed to display Jupyter Widget of type <code>VBox</code>.</p>\n",
       "<p>\n",
       "  If you're reading this message in the Jupyter Notebook or JupyterLab Notebook, it may mean\n",
       "  that the widgets JavaScript is still loading. If this message persists, it\n",
       "  likely means that the widgets JavaScript library is either not installed or\n",
       "  not enabled. See the <a href=\"https://ipywidgets.readthedocs.io/en/stable/user_install.html\">Jupyter\n",
       "  Widgets Documentation</a> for setup instructions.\n",
       "</p>\n",
       "<p>\n",
       "  If you're reading this message in another frontend (for example, a static\n",
       "  rendering on GitHub or <a href=\"https://nbviewer.jupyter.org/\">NBViewer</a>),\n",
       "  it may mean that your frontend doesn't currently support widgets.\n",
       "</p>\n"
      ],
      "text/plain": [
       "VBox(children=(HTML(value=''), IntProgress(value=0, max=200000)))"
      ]
     },
     "metadata": {},
     "output_type": "display_data"
    },
    {
     "data": {
      "application/vnd.jupyter.widget-view+json": {
       "model_id": "2f67f60bc1bb47c689eacc947bd9354a",
       "version_major": 2,
       "version_minor": 0
      },
      "text/html": [
       "<p>Failed to display Jupyter Widget of type <code>VBox</code>.</p>\n",
       "<p>\n",
       "  If you're reading this message in the Jupyter Notebook or JupyterLab Notebook, it may mean\n",
       "  that the widgets JavaScript is still loading. If this message persists, it\n",
       "  likely means that the widgets JavaScript library is either not installed or\n",
       "  not enabled. See the <a href=\"https://ipywidgets.readthedocs.io/en/stable/user_install.html\">Jupyter\n",
       "  Widgets Documentation</a> for setup instructions.\n",
       "</p>\n",
       "<p>\n",
       "  If you're reading this message in another frontend (for example, a static\n",
       "  rendering on GitHub or <a href=\"https://nbviewer.jupyter.org/\">NBViewer</a>),\n",
       "  it may mean that your frontend doesn't currently support widgets.\n",
       "</p>\n"
      ],
      "text/plain": [
       "VBox(children=(HTML(value=''), IntProgress(value=0, max=594534)))"
      ]
     },
     "metadata": {},
     "output_type": "display_data"
    }
   ],
   "source": [
    "idf_rus, words_rus = get_idf( Unpack_Iterators(\n",
    "    [test_rus.texts, train_rus.texts, other_rus.texts]\n",
    "), 0)\n",
    "\n",
    "idf_eng, words_eng = get_idf(Unpack_Iterators(\n",
    "    [test_eng.texts, train_eng.texts, other_eng.texts]\n",
    "), 0)"
   ]
  },
  {
   "cell_type": "code",
   "execution_count": 35,
   "metadata": {},
   "outputs": [
    {
     "name": "stdout",
     "output_type": "stream",
     "text": [
      "205066\n",
      "40017\n",
      "4.360214616574416\n"
     ]
    }
   ],
   "source": [
    "print(len(words_rus))\n",
    "print(len(words_eng))\n",
    "print(np.percentile(idf_rus, 0.2))"
   ]
  },
  {
   "cell_type": "code",
   "execution_count": 36,
   "metadata": {},
   "outputs": [],
   "source": [
    "idf_rus_threshold = np.percentile(idf_rus, 20)\n",
    "words_rus_filtered = [w for idw, w in enumerate(words_rus) if idf_rus[idw]>=idf_rus_threshold]\n",
    "\n",
    "idf_eng_threshold = np.percentile(idf_eng, 20)\n",
    "words_eng_filtered = [w for idw, w in enumerate(words_eng) if idf_rus[idw]>=idf_eng_threshold]\n",
    "\n",
    "words_filtered = words_rus_filtered + words_eng_filtered"
   ]
  },
  {
   "cell_type": "code",
   "execution_count": 11,
   "metadata": {
    "scrolled": false
   },
   "outputs": [],
   "source": [
    "def get_w2v_model(force_update=False):\n",
    "    w2v_vec_cache = Cache_Path_Prefix + 'w2v_model.vec'\n",
    "    w2v_vcb_cache = Cache_Path_Prefix + 'w2v_model.vcb'\n",
    "    \n",
    "    if os.path.isfile(w2v_vec_cache) and (not force_update):\n",
    "        return KeyedVectors.load_word2vec_format(w2v_vec_cache, binary=True)\n",
    "        \n",
    "    else:\n",
    "        sentences = Unpack_Iterators(Unpack_Iterators(\n",
    "            [\n",
    "                test.sentences(keep_words=words_filtered), \n",
    "                train.sentences(keep_words=words_filtered), \n",
    "                other.sentences(keep_words=words_filtered)\n",
    "            ]\n",
    "        ))\n",
    "        \n",
    "        w2v_model = Word2Vec(sentences, size=600, min_count=5, workers=8)\n",
    "        w2v_model.wv.save_word2vec_format(w2v_vec_cache, w2v_vcb_cache, binary=True)\n",
    "        return w2v_model"
   ]
  },
  {
   "cell_type": "code",
   "execution_count": 12,
   "metadata": {
    "scrolled": true
   },
   "outputs": [],
   "source": [
    "# Загружаем модель word2vec\n",
    "model = get_w2v_model()"
   ]
  },
  {
   "cell_type": "code",
   "execution_count": 13,
   "metadata": {
    "scrolled": true
   },
   "outputs": [
    {
     "name": "stderr",
     "output_type": "stream",
     "text": [
      "C:\\ProgramData\\Anaconda3\\lib\\site-packages\\ipykernel_launcher.py:2: DeprecationWarning: Call to deprecated `wv` (Attribute will be removed in 4.0.0, use self instead).\n",
      "  \n"
     ]
    },
    {
     "data": {
      "text/plain": [
       "[('рекламный_ADJF', 0.5489732027053833),\n",
       " ('бигборд_NOUN', 0.5254246592521667),\n",
       " ('маркетинг_NOUN', 0.514053225517273),\n",
       " ('pos_NOUN', 0.49582794308662415),\n",
       " ('фраер_NOUN', 0.47938379645347595),\n",
       " ('smm', 0.4720318913459778),\n",
       " ('googleadwords', 0.46984875202178955),\n",
       " ('прес_NOUN', 0.46643054485321045),\n",
       " ('таргентинговый_ADJF', 0.4655117988586426),\n",
       " ('yandexdirect', 0.464684396982193)]"
      ]
     },
     "execution_count": 13,
     "metadata": {},
     "output_type": "execute_result"
    }
   ],
   "source": [
    "# тестируем модель\n",
    "model.wv.most_similar('реклама_NOUN')"
   ]
  },
  {
   "cell_type": "code",
   "execution_count": 154,
   "metadata": {
    "collapsed": true
   },
   "outputs": [
    {
     "data": {
      "application/vnd.jupyter.widget-view+json": {
       "model_id": "a9154a3db5fe4eb6938515a1daea5231",
       "version_major": 2,
       "version_minor": 0
      },
      "text/html": [
       "<p>Failed to display Jupyter Widget of type <code>VBox</code>.</p>\n",
       "<p>\n",
       "  If you're reading this message in the Jupyter Notebook or JupyterLab Notebook, it may mean\n",
       "  that the widgets JavaScript is still loading. If this message persists, it\n",
       "  likely means that the widgets JavaScript library is either not installed or\n",
       "  not enabled. See the <a href=\"https://ipywidgets.readthedocs.io/en/stable/user_install.html\">Jupyter\n",
       "  Widgets Documentation</a> for setup instructions.\n",
       "</p>\n",
       "<p>\n",
       "  If you're reading this message in another frontend (for example, a static\n",
       "  rendering on GitHub or <a href=\"https://nbviewer.jupyter.org/\">NBViewer</a>),\n",
       "  it may mean that your frontend doesn't currently support widgets.\n",
       "</p>\n"
      ],
      "text/plain": [
       "VBox(children=(HTML(value=''), IntProgress(value=0, max=200068)))"
      ]
     },
     "metadata": {},
     "output_type": "display_data"
    },
    {
     "data": {
      "application/vnd.jupyter.widget-view+json": {
       "model_id": "79c6a6fa803e42d58f7a9d8c931e35a7",
       "version_major": 2,
       "version_minor": 0
      },
      "text/html": [
       "<p>Failed to display Jupyter Widget of type <code>VBox</code>.</p>\n",
       "<p>\n",
       "  If you're reading this message in the Jupyter Notebook or JupyterLab Notebook, it may mean\n",
       "  that the widgets JavaScript is still loading. If this message persists, it\n",
       "  likely means that the widgets JavaScript library is either not installed or\n",
       "  not enabled. See the <a href=\"https://ipywidgets.readthedocs.io/en/stable/user_install.html\">Jupyter\n",
       "  Widgets Documentation</a> for setup instructions.\n",
       "</p>\n",
       "<p>\n",
       "  If you're reading this message in another frontend (for example, a static\n",
       "  rendering on GitHub or <a href=\"https://nbviewer.jupyter.org/\">NBViewer</a>),\n",
       "  it may mean that your frontend doesn't currently support widgets.\n",
       "</p>\n"
      ],
      "text/plain": [
       "VBox(children=(HTML(value=''), IntProgress(value=0, max=200000)))"
      ]
     },
     "metadata": {},
     "output_type": "display_data"
    },
    {
     "name": "stderr",
     "output_type": "stream",
     "text": [
      "C:\\ProgramData\\Anaconda3\\lib\\site-packages\\ipykernel_launcher.py:464: DeprecationWarning: Call to deprecated `__getitem__` (Method will be removed in 4.0.0, use self.wv.__getitem__() instead).\n"
     ]
    },
    {
     "data": {
      "application/vnd.jupyter.widget-view+json": {
       "model_id": "8d9204701bb64fdd87a48a4e2a5f538e",
       "version_major": 2,
       "version_minor": 0
      },
      "text/html": [
       "<p>Failed to display Jupyter Widget of type <code>VBox</code>.</p>\n",
       "<p>\n",
       "  If you're reading this message in the Jupyter Notebook or JupyterLab Notebook, it may mean\n",
       "  that the widgets JavaScript is still loading. If this message persists, it\n",
       "  likely means that the widgets JavaScript library is either not installed or\n",
       "  not enabled. See the <a href=\"https://ipywidgets.readthedocs.io/en/stable/user_install.html\">Jupyter\n",
       "  Widgets Documentation</a> for setup instructions.\n",
       "</p>\n",
       "<p>\n",
       "  If you're reading this message in another frontend (for example, a static\n",
       "  rendering on GitHub or <a href=\"https://nbviewer.jupyter.org/\">NBViewer</a>),\n",
       "  it may mean that your frontend doesn't currently support widgets.\n",
       "</p>\n"
      ],
      "text/plain": [
       "VBox(children=(HTML(value=''), IntProgress(value=0, max=170237)))"
      ]
     },
     "metadata": {},
     "output_type": "display_data"
    },
    {
     "data": {
      "application/vnd.jupyter.widget-view+json": {
       "model_id": "649c9b3879ed4eb0b3280f8f48f080c9",
       "version_major": 2,
       "version_minor": 0
      },
      "text/html": [
       "<p>Failed to display Jupyter Widget of type <code>VBox</code>.</p>\n",
       "<p>\n",
       "  If you're reading this message in the Jupyter Notebook or JupyterLab Notebook, it may mean\n",
       "  that the widgets JavaScript is still loading. If this message persists, it\n",
       "  likely means that the widgets JavaScript library is either not installed or\n",
       "  not enabled. See the <a href=\"https://ipywidgets.readthedocs.io/en/stable/user_install.html\">Jupyter\n",
       "  Widgets Documentation</a> for setup instructions.\n",
       "</p>\n",
       "<p>\n",
       "  If you're reading this message in another frontend (for example, a static\n",
       "  rendering on GitHub or <a href=\"https://nbviewer.jupyter.org/\">NBViewer</a>),\n",
       "  it may mean that your frontend doesn't currently support widgets.\n",
       "</p>\n"
      ],
      "text/plain": [
       "VBox(children=(HTML(value=''), IntProgress(value=0, max=170179)))"
      ]
     },
     "metadata": {},
     "output_type": "display_data"
    },
    {
     "ename": "KeyboardInterrupt",
     "evalue": "",
     "output_type": "error",
     "traceback": [
      "\u001b[1;31m---------------------------------------------------------------------------\u001b[0m",
      "\u001b[1;31mKeyboardInterrupt\u001b[0m                         Traceback (most recent call last)",
      "\u001b[1;32m<ipython-input-154-4c9fb98e6de1>\u001b[0m in \u001b[0;36m<module>\u001b[1;34m()\u001b[0m\n\u001b[0;32m      1\u001b[0m \u001b[1;32mfor\u001b[0m \u001b[0mvi\u001b[0m \u001b[1;32min\u001b[0m \u001b[1;33m[\u001b[0m\u001b[0mtrain\u001b[0m\u001b[1;33m,\u001b[0m \u001b[0mtest\u001b[0m\u001b[1;33m]\u001b[0m\u001b[1;33m:\u001b[0m\u001b[1;33m\u001b[0m\u001b[0m\n\u001b[1;32m----> 2\u001b[1;33m     \u001b[1;32mfor\u001b[0m \u001b[0mitem\u001b[0m \u001b[1;32min\u001b[0m \u001b[0mvi\u001b[0m\u001b[1;33m.\u001b[0m\u001b[0msemantics\u001b[0m\u001b[1;33m(\u001b[0m\u001b[0mmodel\u001b[0m\u001b[1;33m,\u001b[0m \u001b[1;32mTrue\u001b[0m\u001b[1;33m)\u001b[0m\u001b[1;33m:\u001b[0m\u001b[1;33m\u001b[0m\u001b[0m\n\u001b[0m\u001b[0;32m      3\u001b[0m         \u001b[1;32mpass\u001b[0m\u001b[1;33m\u001b[0m\u001b[0m\n",
      "\u001b[1;32m<ipython-input-147-46b1b06cffcf>\u001b[0m in \u001b[0;36m__next__\u001b[1;34m(self, skip)\u001b[0m\n\u001b[0;32m     98\u001b[0m                 \u001b[1;32melse\u001b[0m\u001b[1;33m:\u001b[0m\u001b[1;33m\u001b[0m\u001b[0m\n\u001b[0;32m     99\u001b[0m                     \u001b[0mitem\u001b[0m \u001b[1;33m=\u001b[0m \u001b[1;33m[\u001b[0m\u001b[0miterator\u001b[0m\u001b[1;33m.\u001b[0m\u001b[0m__next__\u001b[0m\u001b[1;33m(\u001b[0m\u001b[1;33m)\u001b[0m \u001b[1;32mfor\u001b[0m \u001b[0miterator\u001b[0m \u001b[1;32min\u001b[0m \u001b[0mself\u001b[0m\u001b[1;33m.\u001b[0m\u001b[0miterators\u001b[0m\u001b[1;33m]\u001b[0m\u001b[1;33m\u001b[0m\u001b[0m\n\u001b[1;32m--> 100\u001b[1;33m                     \u001b[0mitem\u001b[0m \u001b[1;33m=\u001b[0m \u001b[0mself\u001b[0m\u001b[1;33m.\u001b[0m\u001b[0mfunc\u001b[0m\u001b[1;33m(\u001b[0m\u001b[1;33m*\u001b[0m\u001b[0mitem\u001b[0m\u001b[1;33m,\u001b[0m \u001b[1;33m*\u001b[0m\u001b[0mself\u001b[0m\u001b[1;33m.\u001b[0m\u001b[0mfunc_args\u001b[0m\u001b[1;33m)\u001b[0m \u001b[1;32mif\u001b[0m \u001b[0mself\u001b[0m\u001b[1;33m.\u001b[0m\u001b[0mis_selected\u001b[0m\u001b[1;33m(\u001b[0m\u001b[1;33m)\u001b[0m \u001b[1;32melse\u001b[0m \u001b[1;32mNone\u001b[0m\u001b[1;33m\u001b[0m\u001b[0m\n\u001b[0m\u001b[0;32m    101\u001b[0m \u001b[1;33m\u001b[0m\u001b[0m\n\u001b[0;32m    102\u001b[0m             \u001b[1;32mexcept\u001b[0m \u001b[0mStopIteration\u001b[0m\u001b[1;33m:\u001b[0m\u001b[1;33m\u001b[0m\u001b[0m\n",
      "\u001b[1;32m<ipython-input-147-46b1b06cffcf>\u001b[0m in \u001b[0;36m_iter_semantics_from_texts\u001b[1;34m(self, idv, sentences, w2v_model)\u001b[0m\n\u001b[0;32m    444\u001b[0m     \u001b[1;32mdef\u001b[0m \u001b[0m_iter_semantics_from_texts\u001b[0m\u001b[1;33m(\u001b[0m\u001b[0mself\u001b[0m\u001b[1;33m,\u001b[0m \u001b[0midv\u001b[0m\u001b[1;33m,\u001b[0m \u001b[0msentences\u001b[0m\u001b[1;33m,\u001b[0m \u001b[0mw2v_model\u001b[0m\u001b[1;33m)\u001b[0m\u001b[1;33m:\u001b[0m\u001b[1;33m\u001b[0m\u001b[0m\n\u001b[0;32m    445\u001b[0m \u001b[1;33m\u001b[0m\u001b[0m\n\u001b[1;32m--> 446\u001b[1;33m         \u001b[0msemantics\u001b[0m \u001b[1;33m=\u001b[0m \u001b[0mself\u001b[0m\u001b[1;33m.\u001b[0m\u001b[0mtext_to_vec\u001b[0m\u001b[1;33m(\u001b[0m\u001b[0msentences\u001b[0m\u001b[1;33m,\u001b[0m \u001b[0mw2v_model\u001b[0m\u001b[1;33m)\u001b[0m\u001b[1;33m\u001b[0m\u001b[0m\n\u001b[0m\u001b[0;32m    447\u001b[0m \u001b[1;33m\u001b[0m\u001b[0m\n\u001b[0;32m    448\u001b[0m         \u001b[1;32mif\u001b[0m \u001b[0mUse_Data_Cache\u001b[0m\u001b[1;33m:\u001b[0m\u001b[1;33m\u001b[0m\u001b[0m\n",
      "\u001b[1;32m<ipython-input-147-46b1b06cffcf>\u001b[0m in \u001b[0;36mtext_to_vec\u001b[1;34m(self, sentences, model)\u001b[0m\n\u001b[0;32m    459\u001b[0m         \u001b[0mdct\u001b[0m \u001b[1;33m=\u001b[0m \u001b[0mCounter\u001b[0m\u001b[1;33m(\u001b[0m\u001b[0mUnpack_Iterators\u001b[0m\u001b[1;33m(\u001b[0m\u001b[0msentences\u001b[0m\u001b[1;33m)\u001b[0m\u001b[1;33m)\u001b[0m\u001b[1;33m\u001b[0m\u001b[0m\n\u001b[0;32m    460\u001b[0m         \u001b[0mindex2word_set\u001b[0m \u001b[1;33m=\u001b[0m \u001b[0mset\u001b[0m\u001b[1;33m(\u001b[0m\u001b[0mmodel\u001b[0m\u001b[1;33m.\u001b[0m\u001b[0mwv\u001b[0m\u001b[1;33m.\u001b[0m\u001b[0mindex2word\u001b[0m\u001b[1;33m)\u001b[0m\u001b[1;33m\u001b[0m\u001b[0m\n\u001b[1;32m--> 461\u001b[1;33m         \u001b[1;32mfor\u001b[0m \u001b[0mword\u001b[0m\u001b[1;33m,\u001b[0m \u001b[0mcount\u001b[0m \u001b[1;32min\u001b[0m \u001b[0mdct\u001b[0m\u001b[1;33m.\u001b[0m\u001b[0mitems\u001b[0m\u001b[1;33m(\u001b[0m\u001b[1;33m)\u001b[0m\u001b[1;33m:\u001b[0m\u001b[1;33m\u001b[0m\u001b[0m\n\u001b[0m\u001b[0;32m    462\u001b[0m             \u001b[1;32mif\u001b[0m \u001b[0mword\u001b[0m \u001b[1;32min\u001b[0m \u001b[0mindex2word_set\u001b[0m\u001b[1;33m:\u001b[0m\u001b[1;33m\u001b[0m\u001b[0m\n\u001b[0;32m    463\u001b[0m                 \u001b[0mn_words\u001b[0m \u001b[1;33m=\u001b[0m \u001b[0mn_words\u001b[0m \u001b[1;33m+\u001b[0m \u001b[0mcount\u001b[0m\u001b[1;33m\u001b[0m\u001b[0m\n",
      "\u001b[1;31mKeyboardInterrupt\u001b[0m: "
     ]
    }
   ],
   "source": [
    "for vi in [train, test]:\n",
    "    for item in vi.semantics(model, True):\n",
    "        pass"
   ]
  },
  {
   "cell_type": "code",
   "execution_count": 12,
   "metadata": {},
   "outputs": [],
   "source": [
    "from sklearn.model_selection import train_test_split\n",
    "from sklearn.linear_model import LogisticRegression\n",
    "\n",
    "def predict():\n",
    "    X = list(x[1] for x in train.semantics())\n",
    "    y = list(int(x) for x in train['target'])\n",
    "    \n",
    "    lr = LogisticRegression()\n",
    "    lr.fit(X, y)\n",
    "    \n",
    "    X = list(x[1] for x in test.semantics())\n",
    "    X_id = list(x[0] for x in test.semantics())\n",
    "    \n",
    "    y_hat = lr.predict_proba(X)\n",
    "    X = []\n",
    "    \n",
    "    return list(zip(X_id, y_hat))"
   ]
  },
  {
   "cell_type": "code",
   "execution_count": 13,
   "metadata": {},
   "outputs": [
    {
     "data": {
      "application/vnd.jupyter.widget-view+json": {
       "model_id": "154da59b3e234353a2b3a6c66482a453",
       "version_major": 2,
       "version_minor": 0
      },
      "text/html": [
       "<p>Failed to display Jupyter Widget of type <code>VBox</code>.</p>\n",
       "<p>\n",
       "  If you're reading this message in the Jupyter Notebook or JupyterLab Notebook, it may mean\n",
       "  that the widgets JavaScript is still loading. If this message persists, it\n",
       "  likely means that the widgets JavaScript library is either not installed or\n",
       "  not enabled. See the <a href=\"https://ipywidgets.readthedocs.io/en/stable/user_install.html\">Jupyter\n",
       "  Widgets Documentation</a> for setup instructions.\n",
       "</p>\n",
       "<p>\n",
       "  If you're reading this message in another frontend (for example, a static\n",
       "  rendering on GitHub or <a href=\"https://nbviewer.jupyter.org/\">NBViewer</a>),\n",
       "  it may mean that your frontend doesn't currently support widgets.\n",
       "</p>\n"
      ],
      "text/plain": [
       "VBox(children=(HTML(value=''), IntProgress(value=0, max=200000)))"
      ]
     },
     "metadata": {},
     "output_type": "display_data"
    },
    {
     "data": {
      "application/vnd.jupyter.widget-view+json": {
       "model_id": "2d8b853b01f345f78de9c2b014345719",
       "version_major": 2,
       "version_minor": 0
      },
      "text/html": [
       "<p>Failed to display Jupyter Widget of type <code>VBox</code>.</p>\n",
       "<p>\n",
       "  If you're reading this message in the Jupyter Notebook or JupyterLab Notebook, it may mean\n",
       "  that the widgets JavaScript is still loading. If this message persists, it\n",
       "  likely means that the widgets JavaScript library is either not installed or\n",
       "  not enabled. See the <a href=\"https://ipywidgets.readthedocs.io/en/stable/user_install.html\">Jupyter\n",
       "  Widgets Documentation</a> for setup instructions.\n",
       "</p>\n",
       "<p>\n",
       "  If you're reading this message in another frontend (for example, a static\n",
       "  rendering on GitHub or <a href=\"https://nbviewer.jupyter.org/\">NBViewer</a>),\n",
       "  it may mean that your frontend doesn't currently support widgets.\n",
       "</p>\n"
      ],
      "text/plain": [
       "VBox(children=(HTML(value=''), IntProgress(value=0, max=200068)))"
      ]
     },
     "metadata": {},
     "output_type": "display_data"
    },
    {
     "data": {
      "application/vnd.jupyter.widget-view+json": {
       "model_id": "31fe10a3bec7426c9bd5bd88b5e92ed7",
       "version_major": 2,
       "version_minor": 0
      },
      "text/html": [
       "<p>Failed to display Jupyter Widget of type <code>VBox</code>.</p>\n",
       "<p>\n",
       "  If you're reading this message in the Jupyter Notebook or JupyterLab Notebook, it may mean\n",
       "  that the widgets JavaScript is still loading. If this message persists, it\n",
       "  likely means that the widgets JavaScript library is either not installed or\n",
       "  not enabled. See the <a href=\"https://ipywidgets.readthedocs.io/en/stable/user_install.html\">Jupyter\n",
       "  Widgets Documentation</a> for setup instructions.\n",
       "</p>\n",
       "<p>\n",
       "  If you're reading this message in another frontend (for example, a static\n",
       "  rendering on GitHub or <a href=\"https://nbviewer.jupyter.org/\">NBViewer</a>),\n",
       "  it may mean that your frontend doesn't currently support widgets.\n",
       "</p>\n"
      ],
      "text/plain": [
       "VBox(children=(HTML(value=''), IntProgress(value=0, max=170179)))"
      ]
     },
     "metadata": {},
     "output_type": "display_data"
    },
    {
     "data": {
      "application/vnd.jupyter.widget-view+json": {
       "model_id": "6e0be290ef2d447eaacd644b329f8041",
       "version_major": 2,
       "version_minor": 0
      },
      "text/html": [
       "<p>Failed to display Jupyter Widget of type <code>VBox</code>.</p>\n",
       "<p>\n",
       "  If you're reading this message in the Jupyter Notebook or JupyterLab Notebook, it may mean\n",
       "  that the widgets JavaScript is still loading. If this message persists, it\n",
       "  likely means that the widgets JavaScript library is either not installed or\n",
       "  not enabled. See the <a href=\"https://ipywidgets.readthedocs.io/en/stable/user_install.html\">Jupyter\n",
       "  Widgets Documentation</a> for setup instructions.\n",
       "</p>\n",
       "<p>\n",
       "  If you're reading this message in another frontend (for example, a static\n",
       "  rendering on GitHub or <a href=\"https://nbviewer.jupyter.org/\">NBViewer</a>),\n",
       "  it may mean that your frontend doesn't currently support widgets.\n",
       "</p>\n"
      ],
      "text/plain": [
       "VBox(children=(HTML(value=''), IntProgress(value=0, max=170179)))"
      ]
     },
     "metadata": {},
     "output_type": "display_data"
    }
   ],
   "source": [
    "predict_probe = predict()"
   ]
  },
  {
   "cell_type": "code",
   "execution_count": 38,
   "metadata": {},
   "outputs": [],
   "source": [
    "def write_predicts():\n",
    "    \n",
    "    writer = open('test_predict_probe.csv', 'w', encoding='utf-8')\n",
    "    \n",
    "    writer.write('id,target')\n",
    "    \n",
    "    for idp, p in predict_probe:\n",
    "        writer.write('\\n{},{}'.format(idp, p[1]))\n",
    "    \n",
    "    writer.close()\n",
    "    "
   ]
  },
  {
   "cell_type": "code",
   "execution_count": 39,
   "metadata": {},
   "outputs": [],
   "source": [
    "write_predicts()"
   ]
  },
  {
   "cell_type": "code",
   "execution_count": null,
   "metadata": {},
   "outputs": [],
   "source": []
  },
  {
   "cell_type": "code",
   "execution_count": null,
   "metadata": {},
   "outputs": [],
   "source": []
  },
  {
   "cell_type": "code",
   "execution_count": null,
   "metadata": {},
   "outputs": [],
   "source": []
  },
  {
   "cell_type": "code",
   "execution_count": null,
   "metadata": {},
   "outputs": [],
   "source": []
  }
 ],
 "metadata": {
  "kernelspec": {
   "display_name": "Python 3",
   "language": "python",
   "name": "python3"
  },
  "language_info": {
   "codemirror_mode": {
    "name": "ipython",
    "version": 3
   },
   "file_extension": ".py",
   "mimetype": "text/x-python",
   "name": "python",
   "nbconvert_exporter": "python",
   "pygments_lexer": "ipython3",
   "version": "3.6.4"
  }
 },
 "nbformat": 4,
 "nbformat_minor": 2
}
